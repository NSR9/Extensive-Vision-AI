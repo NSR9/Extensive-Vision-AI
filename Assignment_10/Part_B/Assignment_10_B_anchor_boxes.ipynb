{
  "nbformat": 4,
  "nbformat_minor": 0,
  "metadata": {
    "colab": {
      "name": "Assignment_10_B_anchor_boxes.ipynb",
      "provenance": [],
      "collapsed_sections": [],
      "authorship_tag": "ABX9TyNa0gXAZ0eBhQb/wtifolPB",
      "include_colab_link": true
    },
    "kernelspec": {
      "name": "python3",
      "display_name": "Python 3"
    },
    "language_info": {
      "name": "python"
    }
  },
  "cells": [
    {
      "cell_type": "markdown",
      "metadata": {
        "id": "view-in-github",
        "colab_type": "text"
      },
      "source": [
        "<a href=\"https://colab.research.google.com/github/NSR9/Extensive-Vision-AI/blob/main/Assignment_10/Part_B/Assignment_10_B_anchor_boxes.ipynb\" target=\"_parent\"><img src=\"https://colab.research.google.com/assets/colab-badge.svg\" alt=\"Open In Colab\"/></a>"
      ]
    },
    {
      "cell_type": "markdown",
      "metadata": {
        "id": "B84yj6i1-feT"
      },
      "source": [
        "## Refernce Links\n",
        "\n",
        "https://towardsdatascience.com/machine-learning-algorithms-part-9-k-means-example-in-python-f2ad05ed5203\n",
        "\n",
        "https://www.youtube.com/watch?v=4b5d3muPQmA"
      ]
    },
    {
      "cell_type": "code",
      "metadata": {
        "id": "_w1Q_BRH5wLQ"
      },
      "source": [
        "import numpy as np\n",
        "import pandas as pd\n",
        "import json\n",
        "from matplotlib import pyplot as plt\n",
        "from sklearn.datasets.samples_generator import make_blobs\n",
        "from sklearn.cluster import KMeans\n",
        "from scipy.spatial.distance import cdist\n",
        "from matplotlib.patches import Rectangle"
      ],
      "execution_count": 31,
      "outputs": []
    },
    {
      "cell_type": "code",
      "metadata": {
        "colab": {
          "base_uri": "https://localhost:8080/"
        },
        "id": "T20EfasY6t2X",
        "outputId": "d199145f-dd72-4435-8021-94272984bafe"
      },
      "source": [
        "from google.colab import drive\n",
        "drive.mount('/content/drive')"
      ],
      "execution_count": 2,
      "outputs": [
        {
          "output_type": "stream",
          "text": [
            "Drive already mounted at /content/drive; to attempt to forcibly remount, call drive.mount(\"/content/drive\", force_remount=True).\n"
          ],
          "name": "stdout"
        }
      ]
    },
    {
      "cell_type": "code",
      "metadata": {
        "colab": {
          "base_uri": "https://localhost:8080/",
          "height": 424
        },
        "id": "PNY9_nUo66A-",
        "outputId": "01ccead8-c640-4a2c-a00a-7e8d95a01598"
      },
      "source": [
        "raw = pd.read_csv('/content/drive/MyDrive/EVA_6 /sample_coco.txt', names=['id',  'height',  'width',  'X', 'Y', 'b_h', \"b_w\", \"NA\"]).drop(['NA'], axis=1)\n",
        "raw"
      ],
      "execution_count": 3,
      "outputs": [
        {
          "output_type": "execute_result",
          "data": {
            "text/html": [
              "<div>\n",
              "<style scoped>\n",
              "    .dataframe tbody tr th:only-of-type {\n",
              "        vertical-align: middle;\n",
              "    }\n",
              "\n",
              "    .dataframe tbody tr th {\n",
              "        vertical-align: top;\n",
              "    }\n",
              "\n",
              "    .dataframe thead th {\n",
              "        text-align: right;\n",
              "    }\n",
              "</style>\n",
              "<table border=\"1\" class=\"dataframe\">\n",
              "  <thead>\n",
              "    <tr style=\"text-align: right;\">\n",
              "      <th></th>\n",
              "      <th>id</th>\n",
              "      <th>height</th>\n",
              "      <th>width</th>\n",
              "      <th>X</th>\n",
              "      <th>Y</th>\n",
              "      <th>b_h</th>\n",
              "      <th>b_w</th>\n",
              "    </tr>\n",
              "  </thead>\n",
              "  <tbody>\n",
              "    <tr>\n",
              "      <th>0</th>\n",
              "      <td>id: 0</td>\n",
              "      <td>height: 330</td>\n",
              "      <td>width: 1093</td>\n",
              "      <td>bbox:[69</td>\n",
              "      <td>464</td>\n",
              "      <td>312</td>\n",
              "      <td>175]</td>\n",
              "    </tr>\n",
              "    <tr>\n",
              "      <th>1</th>\n",
              "      <td>id: 1</td>\n",
              "      <td>height: 782</td>\n",
              "      <td>width: 439</td>\n",
              "      <td>bbox:[359</td>\n",
              "      <td>292</td>\n",
              "      <td>83</td>\n",
              "      <td>199]</td>\n",
              "    </tr>\n",
              "    <tr>\n",
              "      <th>2</th>\n",
              "      <td>id: 3</td>\n",
              "      <td>height: 645</td>\n",
              "      <td>width: 831</td>\n",
              "      <td>bbox:[297</td>\n",
              "      <td>312</td>\n",
              "      <td>267</td>\n",
              "      <td>167]</td>\n",
              "    </tr>\n",
              "    <tr>\n",
              "      <th>3</th>\n",
              "      <td>id: 34</td>\n",
              "      <td>height: 943</td>\n",
              "      <td>width: 608</td>\n",
              "      <td>bbox:[275</td>\n",
              "      <td>112</td>\n",
              "      <td>319</td>\n",
              "      <td>290]</td>\n",
              "    </tr>\n",
              "    <tr>\n",
              "      <th>4</th>\n",
              "      <td>id: 20</td>\n",
              "      <td>height: 593</td>\n",
              "      <td>width: 857</td>\n",
              "      <td>bbox:[71</td>\n",
              "      <td>368</td>\n",
              "      <td>146</td>\n",
              "      <td>147]</td>\n",
              "    </tr>\n",
              "    <tr>\n",
              "      <th>...</th>\n",
              "      <td>...</td>\n",
              "      <td>...</td>\n",
              "      <td>...</td>\n",
              "      <td>...</td>\n",
              "      <td>...</td>\n",
              "      <td>...</td>\n",
              "      <td>...</td>\n",
              "    </tr>\n",
              "    <tr>\n",
              "      <th>10100</th>\n",
              "      <td>id: 2</td>\n",
              "      <td>height: 285</td>\n",
              "      <td>width: 550</td>\n",
              "      <td>bbox:[62</td>\n",
              "      <td>129</td>\n",
              "      <td>234</td>\n",
              "      <td>142]</td>\n",
              "    </tr>\n",
              "    <tr>\n",
              "      <th>10101</th>\n",
              "      <td>id: 37</td>\n",
              "      <td>height: 735</td>\n",
              "      <td>width: 340</td>\n",
              "      <td>bbox:[389</td>\n",
              "      <td>78</td>\n",
              "      <td>140</td>\n",
              "      <td>158]</td>\n",
              "    </tr>\n",
              "    <tr>\n",
              "      <th>10102</th>\n",
              "      <td>id: 15</td>\n",
              "      <td>height: 677</td>\n",
              "      <td>width: 665</td>\n",
              "      <td>bbox:[359</td>\n",
              "      <td>240</td>\n",
              "      <td>297</td>\n",
              "      <td>258]</td>\n",
              "    </tr>\n",
              "    <tr>\n",
              "      <th>10103</th>\n",
              "      <td>id: 69</td>\n",
              "      <td>height: 474</td>\n",
              "      <td>width: 653</td>\n",
              "      <td>bbox:[95</td>\n",
              "      <td>168</td>\n",
              "      <td>271</td>\n",
              "      <td>138]</td>\n",
              "    </tr>\n",
              "    <tr>\n",
              "      <th>10104</th>\n",
              "      <td>id: 62</td>\n",
              "      <td>height: 862</td>\n",
              "      <td>width: 509</td>\n",
              "      <td>bbox:[378</td>\n",
              "      <td>46</td>\n",
              "      <td>320</td>\n",
              "      <td>279]</td>\n",
              "    </tr>\n",
              "  </tbody>\n",
              "</table>\n",
              "<p>10105 rows × 7 columns</p>\n",
              "</div>"
            ],
            "text/plain": [
              "           id        height         width           X    Y  b_h    b_w\n",
              "0       id: 0   height: 330   width: 1093    bbox:[69  464  312   175]\n",
              "1       id: 1   height: 782    width: 439   bbox:[359  292   83   199]\n",
              "2       id: 3   height: 645    width: 831   bbox:[297  312  267   167]\n",
              "3      id: 34   height: 943    width: 608   bbox:[275  112  319   290]\n",
              "4      id: 20   height: 593    width: 857    bbox:[71  368  146   147]\n",
              "...       ...           ...           ...         ...  ...  ...    ...\n",
              "10100   id: 2   height: 285    width: 550    bbox:[62  129  234   142]\n",
              "10101  id: 37   height: 735    width: 340   bbox:[389   78  140   158]\n",
              "10102  id: 15   height: 677    width: 665   bbox:[359  240  297   258]\n",
              "10103  id: 69   height: 474    width: 653    bbox:[95  168  271   138]\n",
              "10104  id: 62   height: 862    width: 509   bbox:[378   46  320   279]\n",
              "\n",
              "[10105 rows x 7 columns]"
            ]
          },
          "metadata": {
            "tags": []
          },
          "execution_count": 3
        }
      ]
    },
    {
      "cell_type": "code",
      "metadata": {
        "id": "D9687ayz9VoO"
      },
      "source": [
        "data = pd.DataFrame()\n",
        "data['id'] = raw['id'].astype(str).str[4:].astype(int)\n",
        "data['height'] = raw['height'].astype(str).str[8:].astype(int)\n",
        "data['width'] = raw['width'].astype(str).str[7:].astype(int)\n",
        "data['X'] = raw['X'].astype(str).str[7:].astype(int)\n",
        "data['Y'] = raw['Y'].astype(int)\n",
        "data['b_h'] = raw['b_h'].astype(int)\n",
        "data['b_w'] = raw['b_w'].astype(str).str[:-1].astype(int)"
      ],
      "execution_count": 4,
      "outputs": []
    },
    {
      "cell_type": "code",
      "metadata": {
        "colab": {
          "base_uri": "https://localhost:8080/"
        },
        "id": "z4W6RBo3BsMf",
        "outputId": "28159975-eb94-42b7-8130-e86686ab0171"
      },
      "source": [
        "data.columns"
      ],
      "execution_count": 5,
      "outputs": [
        {
          "output_type": "execute_result",
          "data": {
            "text/plain": [
              "Index(['id', 'height', 'width', 'X', 'Y', 'b_h', 'b_w'], dtype='object')"
            ]
          },
          "metadata": {
            "tags": []
          },
          "execution_count": 5
        }
      ]
    },
    {
      "cell_type": "code",
      "metadata": {
        "colab": {
          "base_uri": "https://localhost:8080/",
          "height": 206
        },
        "id": "TRmJJbL1GpH6",
        "outputId": "f447c2e4-1902-45fc-ac4f-a4377f0a92cb"
      },
      "source": [
        "data.head()"
      ],
      "execution_count": 6,
      "outputs": [
        {
          "output_type": "execute_result",
          "data": {
            "text/html": [
              "<div>\n",
              "<style scoped>\n",
              "    .dataframe tbody tr th:only-of-type {\n",
              "        vertical-align: middle;\n",
              "    }\n",
              "\n",
              "    .dataframe tbody tr th {\n",
              "        vertical-align: top;\n",
              "    }\n",
              "\n",
              "    .dataframe thead th {\n",
              "        text-align: right;\n",
              "    }\n",
              "</style>\n",
              "<table border=\"1\" class=\"dataframe\">\n",
              "  <thead>\n",
              "    <tr style=\"text-align: right;\">\n",
              "      <th></th>\n",
              "      <th>id</th>\n",
              "      <th>height</th>\n",
              "      <th>width</th>\n",
              "      <th>X</th>\n",
              "      <th>Y</th>\n",
              "      <th>b_h</th>\n",
              "      <th>b_w</th>\n",
              "    </tr>\n",
              "  </thead>\n",
              "  <tbody>\n",
              "    <tr>\n",
              "      <th>0</th>\n",
              "      <td>0</td>\n",
              "      <td>330</td>\n",
              "      <td>1093</td>\n",
              "      <td>69</td>\n",
              "      <td>464</td>\n",
              "      <td>312</td>\n",
              "      <td>175</td>\n",
              "    </tr>\n",
              "    <tr>\n",
              "      <th>1</th>\n",
              "      <td>1</td>\n",
              "      <td>782</td>\n",
              "      <td>439</td>\n",
              "      <td>359</td>\n",
              "      <td>292</td>\n",
              "      <td>83</td>\n",
              "      <td>199</td>\n",
              "    </tr>\n",
              "    <tr>\n",
              "      <th>2</th>\n",
              "      <td>3</td>\n",
              "      <td>645</td>\n",
              "      <td>831</td>\n",
              "      <td>297</td>\n",
              "      <td>312</td>\n",
              "      <td>267</td>\n",
              "      <td>167</td>\n",
              "    </tr>\n",
              "    <tr>\n",
              "      <th>3</th>\n",
              "      <td>34</td>\n",
              "      <td>943</td>\n",
              "      <td>608</td>\n",
              "      <td>275</td>\n",
              "      <td>112</td>\n",
              "      <td>319</td>\n",
              "      <td>290</td>\n",
              "    </tr>\n",
              "    <tr>\n",
              "      <th>4</th>\n",
              "      <td>20</td>\n",
              "      <td>593</td>\n",
              "      <td>857</td>\n",
              "      <td>71</td>\n",
              "      <td>368</td>\n",
              "      <td>146</td>\n",
              "      <td>147</td>\n",
              "    </tr>\n",
              "  </tbody>\n",
              "</table>\n",
              "</div>"
            ],
            "text/plain": [
              "   id  height  width    X    Y  b_h  b_w\n",
              "0   0     330   1093   69  464  312  175\n",
              "1   1     782    439  359  292   83  199\n",
              "2   3     645    831  297  312  267  167\n",
              "3  34     943    608  275  112  319  290\n",
              "4  20     593    857   71  368  146  147"
            ]
          },
          "metadata": {
            "tags": []
          },
          "execution_count": 6
        }
      ]
    },
    {
      "cell_type": "code",
      "metadata": {
        "colab": {
          "base_uri": "https://localhost:8080/",
          "height": 424
        },
        "id": "FILcUBeD5skm",
        "outputId": "6f0058f9-8450-49ca-e993-0eb596386eef"
      },
      "source": [
        "data['X_norm'] = data['X']/data['height']\n",
        "data['Y_norm'] = data['Y']/data['width']\n",
        "data['b_h_norm'] = data['b_h']/data['height']\n",
        "data['b_w_norm'] = data['b_w']/data['width']\n",
        "data"
      ],
      "execution_count": 7,
      "outputs": [
        {
          "output_type": "execute_result",
          "data": {
            "text/html": [
              "<div>\n",
              "<style scoped>\n",
              "    .dataframe tbody tr th:only-of-type {\n",
              "        vertical-align: middle;\n",
              "    }\n",
              "\n",
              "    .dataframe tbody tr th {\n",
              "        vertical-align: top;\n",
              "    }\n",
              "\n",
              "    .dataframe thead th {\n",
              "        text-align: right;\n",
              "    }\n",
              "</style>\n",
              "<table border=\"1\" class=\"dataframe\">\n",
              "  <thead>\n",
              "    <tr style=\"text-align: right;\">\n",
              "      <th></th>\n",
              "      <th>id</th>\n",
              "      <th>height</th>\n",
              "      <th>width</th>\n",
              "      <th>X</th>\n",
              "      <th>Y</th>\n",
              "      <th>b_h</th>\n",
              "      <th>b_w</th>\n",
              "      <th>X_norm</th>\n",
              "      <th>Y_norm</th>\n",
              "      <th>b_h_norm</th>\n",
              "      <th>b_w_norm</th>\n",
              "    </tr>\n",
              "  </thead>\n",
              "  <tbody>\n",
              "    <tr>\n",
              "      <th>0</th>\n",
              "      <td>0</td>\n",
              "      <td>330</td>\n",
              "      <td>1093</td>\n",
              "      <td>69</td>\n",
              "      <td>464</td>\n",
              "      <td>312</td>\n",
              "      <td>175</td>\n",
              "      <td>0.209091</td>\n",
              "      <td>0.424520</td>\n",
              "      <td>0.945455</td>\n",
              "      <td>0.160110</td>\n",
              "    </tr>\n",
              "    <tr>\n",
              "      <th>1</th>\n",
              "      <td>1</td>\n",
              "      <td>782</td>\n",
              "      <td>439</td>\n",
              "      <td>359</td>\n",
              "      <td>292</td>\n",
              "      <td>83</td>\n",
              "      <td>199</td>\n",
              "      <td>0.459079</td>\n",
              "      <td>0.665148</td>\n",
              "      <td>0.106138</td>\n",
              "      <td>0.453303</td>\n",
              "    </tr>\n",
              "    <tr>\n",
              "      <th>2</th>\n",
              "      <td>3</td>\n",
              "      <td>645</td>\n",
              "      <td>831</td>\n",
              "      <td>297</td>\n",
              "      <td>312</td>\n",
              "      <td>267</td>\n",
              "      <td>167</td>\n",
              "      <td>0.460465</td>\n",
              "      <td>0.375451</td>\n",
              "      <td>0.413953</td>\n",
              "      <td>0.200963</td>\n",
              "    </tr>\n",
              "    <tr>\n",
              "      <th>3</th>\n",
              "      <td>34</td>\n",
              "      <td>943</td>\n",
              "      <td>608</td>\n",
              "      <td>275</td>\n",
              "      <td>112</td>\n",
              "      <td>319</td>\n",
              "      <td>290</td>\n",
              "      <td>0.291622</td>\n",
              "      <td>0.184211</td>\n",
              "      <td>0.338282</td>\n",
              "      <td>0.476974</td>\n",
              "    </tr>\n",
              "    <tr>\n",
              "      <th>4</th>\n",
              "      <td>20</td>\n",
              "      <td>593</td>\n",
              "      <td>857</td>\n",
              "      <td>71</td>\n",
              "      <td>368</td>\n",
              "      <td>146</td>\n",
              "      <td>147</td>\n",
              "      <td>0.119730</td>\n",
              "      <td>0.429405</td>\n",
              "      <td>0.246206</td>\n",
              "      <td>0.171529</td>\n",
              "    </tr>\n",
              "    <tr>\n",
              "      <th>...</th>\n",
              "      <td>...</td>\n",
              "      <td>...</td>\n",
              "      <td>...</td>\n",
              "      <td>...</td>\n",
              "      <td>...</td>\n",
              "      <td>...</td>\n",
              "      <td>...</td>\n",
              "      <td>...</td>\n",
              "      <td>...</td>\n",
              "      <td>...</td>\n",
              "      <td>...</td>\n",
              "    </tr>\n",
              "    <tr>\n",
              "      <th>10100</th>\n",
              "      <td>2</td>\n",
              "      <td>285</td>\n",
              "      <td>550</td>\n",
              "      <td>62</td>\n",
              "      <td>129</td>\n",
              "      <td>234</td>\n",
              "      <td>142</td>\n",
              "      <td>0.217544</td>\n",
              "      <td>0.234545</td>\n",
              "      <td>0.821053</td>\n",
              "      <td>0.258182</td>\n",
              "    </tr>\n",
              "    <tr>\n",
              "      <th>10101</th>\n",
              "      <td>37</td>\n",
              "      <td>735</td>\n",
              "      <td>340</td>\n",
              "      <td>389</td>\n",
              "      <td>78</td>\n",
              "      <td>140</td>\n",
              "      <td>158</td>\n",
              "      <td>0.529252</td>\n",
              "      <td>0.229412</td>\n",
              "      <td>0.190476</td>\n",
              "      <td>0.464706</td>\n",
              "    </tr>\n",
              "    <tr>\n",
              "      <th>10102</th>\n",
              "      <td>15</td>\n",
              "      <td>677</td>\n",
              "      <td>665</td>\n",
              "      <td>359</td>\n",
              "      <td>240</td>\n",
              "      <td>297</td>\n",
              "      <td>258</td>\n",
              "      <td>0.530281</td>\n",
              "      <td>0.360902</td>\n",
              "      <td>0.438700</td>\n",
              "      <td>0.387970</td>\n",
              "    </tr>\n",
              "    <tr>\n",
              "      <th>10103</th>\n",
              "      <td>69</td>\n",
              "      <td>474</td>\n",
              "      <td>653</td>\n",
              "      <td>95</td>\n",
              "      <td>168</td>\n",
              "      <td>271</td>\n",
              "      <td>138</td>\n",
              "      <td>0.200422</td>\n",
              "      <td>0.257274</td>\n",
              "      <td>0.571730</td>\n",
              "      <td>0.211332</td>\n",
              "    </tr>\n",
              "    <tr>\n",
              "      <th>10104</th>\n",
              "      <td>62</td>\n",
              "      <td>862</td>\n",
              "      <td>509</td>\n",
              "      <td>378</td>\n",
              "      <td>46</td>\n",
              "      <td>320</td>\n",
              "      <td>279</td>\n",
              "      <td>0.438515</td>\n",
              "      <td>0.090373</td>\n",
              "      <td>0.371230</td>\n",
              "      <td>0.548134</td>\n",
              "    </tr>\n",
              "  </tbody>\n",
              "</table>\n",
              "<p>10105 rows × 11 columns</p>\n",
              "</div>"
            ],
            "text/plain": [
              "       id  height  width    X    Y  ...  b_w    X_norm    Y_norm  b_h_norm  b_w_norm\n",
              "0       0     330   1093   69  464  ...  175  0.209091  0.424520  0.945455  0.160110\n",
              "1       1     782    439  359  292  ...  199  0.459079  0.665148  0.106138  0.453303\n",
              "2       3     645    831  297  312  ...  167  0.460465  0.375451  0.413953  0.200963\n",
              "3      34     943    608  275  112  ...  290  0.291622  0.184211  0.338282  0.476974\n",
              "4      20     593    857   71  368  ...  147  0.119730  0.429405  0.246206  0.171529\n",
              "...    ..     ...    ...  ...  ...  ...  ...       ...       ...       ...       ...\n",
              "10100   2     285    550   62  129  ...  142  0.217544  0.234545  0.821053  0.258182\n",
              "10101  37     735    340  389   78  ...  158  0.529252  0.229412  0.190476  0.464706\n",
              "10102  15     677    665  359  240  ...  258  0.530281  0.360902  0.438700  0.387970\n",
              "10103  69     474    653   95  168  ...  138  0.200422  0.257274  0.571730  0.211332\n",
              "10104  62     862    509  378   46  ...  279  0.438515  0.090373  0.371230  0.548134\n",
              "\n",
              "[10105 rows x 11 columns]"
            ]
          },
          "metadata": {
            "tags": []
          },
          "execution_count": 7
        }
      ]
    },
    {
      "cell_type": "code",
      "metadata": {
        "colab": {
          "base_uri": "https://localhost:8080/",
          "height": 282
        },
        "id": "D9vFkBbjVYvR",
        "outputId": "482f637e-85dc-432e-dd4c-2882f91a0bb1"
      },
      "source": [
        "plt.plot(data['b_w_norm'],data['b_h_norm'],'.')"
      ],
      "execution_count": 8,
      "outputs": [
        {
          "output_type": "execute_result",
          "data": {
            "text/plain": [
              "[<matplotlib.lines.Line2D at 0x7f70d97625d0>]"
            ]
          },
          "metadata": {
            "tags": []
          },
          "execution_count": 8
        },
        {
          "output_type": "display_data",
          "data": {
            "image/png": "[encoded data removed]",
            "text/plain": [
              "<Figure size 432x288 with 1 Axes>"
            ]
          },
          "metadata": {
            "tags": [],
            "needs_background": "light"
          }
        }
      ]
    },
    {
      "cell_type": "code",
      "metadata": {
        "id": "B45e8cixVcgR",
        "colab": {
          "base_uri": "https://localhost:8080/",
          "height": 294
        },
        "outputId": "82155c7c-dfa7-4729-f575-eb9e1dba5eec"
      },
      "source": [
        "finding_k = []\n",
        "for i in range(1, 10):\n",
        "    kmeans = KMeans(n_clusters=i, init='k-means++', max_iter=300, n_init=10, random_state=0)\n",
        "    kmeans.fit(data[['b_h_norm', 'b_w_norm']])\n",
        "    finding_k.append(sum(np.min(cdist(data[['b_h_norm', 'b_w_norm']], kmeans.cluster_centers_, 'euclidean'), axis=1)) /data[['b_h_norm', 'b_w_norm']].shape[0])\n",
        "plt.plot(range(1, 10), finding_k)\n",
        "plt.title('Elbow Method to find optimum K for K means')\n",
        "plt.xlabel('Number of clusters(K)')\n",
        "plt.ylabel('Distortion')\n",
        "plt.show()"
      ],
      "execution_count": 17,
      "outputs": [
        {
          "output_type": "display_data",
          "data": {
            "image/png": "[encoded data removed]",
            "text/plain": [
              "<Figure size 432x288 with 1 Axes>"
            ]
          },
          "metadata": {
            "tags": [],
            "needs_background": "light"
          }
        }
      ]
    },
    {
      "cell_type": "markdown",
      "metadata": {
        "id": "cNRIt4j70ez9"
      },
      "source": [
        "## Iou Method to find out K\n",
        "\n",
        "### IOU(Intersection over union) = intersected area of bbox and anchor box/ Union area of bbox and anchor box\n",
        "\n",
        "- bw = bounding box width, bh - bounding box height, aw - anchor box width, ah - anchor box height\n",
        "- IOU = min(bw,aw) min(bh, ah)/bwbh + awah - min(bw,aw) min(bh, ah)\n",
        "- mean IOU = sum(IOU)/len(IOU)"
      ]
    },
    {
      "cell_type": "code",
      "metadata": {
        "id": "TguR_MBdyhtD"
      },
      "source": [
        "height = list(data['b_h_norm'])\n",
        "width = list(data['b_w_norm'])\n",
        "ks = range(1,10)\n",
        "meaniou = []\n",
        "for k in ks:\n",
        "    cl = KMeans(n_clusters=k)\n",
        "    cl.fit(data[['b_h_norm', 'b_w_norm']])\n",
        "    cx = []\n",
        "    cy = []\n",
        "    mapcx  = {}\n",
        "    mapcy = {}\n",
        "    iou = []\n",
        "    for i in range(len(data)):\n",
        "        l = cl.labels_[i]\n",
        "        cx.append(cl.cluster_centers_[l][0])\n",
        "        cy.append(cl.cluster_centers_[l][1])\n",
        "        iou.append(min(width[i] ,cx[i])* min(height[i] , cy[i])/(height[i]*width[i]+ cx[i]*cy[i]- min(width[i] , cx[i])* min(height[i] ,cy[i])))\n",
        "    meaniou.append(sum(iou)/len(data))"
      ],
      "execution_count": 24,
      "outputs": []
    },
    {
      "cell_type": "code",
      "metadata": {
        "colab": {
          "base_uri": "https://localhost:8080/",
          "height": 294
        },
        "id": "2y1VfKxCzpev",
        "outputId": "4a23844e-af91-4edd-f79b-86bf5f9b5512"
      },
      "source": [
        "plt.plot(range(1,10),meaniou,'.-',label = \"iou\")\n",
        "plt.plot([3,3],[0.25,0.45],label = \"k = 3\")\n",
        "plt.plot([6,6],[0.25,0.45],label = \"k = 6\")\n",
        "plt.xlabel('centroids')\n",
        "plt.ylabel('Mean Iou')\n",
        "plt.title('The Mean IOU for each k')\n",
        "plt.legend()\n",
        "plt.show()"
      ],
      "execution_count": 65,
      "outputs": [
        {
          "output_type": "display_data",
          "data": {
            "image/png": "[encoded data removed]",
            "text/plain": [
              "<Figure size 432x288 with 1 Axes>"
            ]
          },
          "metadata": {
            "tags": [],
            "needs_background": "light"
          }
        }
      ]
    },
    {
      "cell_type": "code",
      "metadata": {
        "colab": {
          "base_uri": "https://localhost:8080/",
          "height": 1000
        },
        "id": "1iOYF6Wn05IV",
        "outputId": "62fc393e-0876-4a6f-c05c-7da327bfe127"
      },
      "source": [
        "for i in range(3,7):\n",
        "    kmeans = KMeans(n_clusters=i, init='k-means++', max_iter=300, n_init=10, random_state=0)\n",
        "    pred_y = kmeans.fit_predict(data[['b_h_norm', 'b_w_norm']])\n",
        "\n",
        "    \n",
        "    plt.scatter(data[['b_h_norm']], data[[ 'b_w_norm']])\n",
        "    plt.scatter(kmeans.cluster_centers_[:, 0], kmeans.cluster_centers_[:, 1], s=300, c='red')\n",
        "    plt.title(f'When K is equal to {i}')\n",
        "    plt.xlabel('Normalized bounding box width')\n",
        "    plt.ylabel('Normalized bounding box height')  \n",
        "    plt.show()"
      ],
      "execution_count": 28,
      "outputs": [
        {
          "output_type": "display_data",
          "data": {
            "image/png": "[encoded data removed]",
            "text/plain": [
              "<Figure size 432x288 with 1 Axes>"
            ]
          },
          "metadata": {
            "tags": [],
            "needs_background": "light"
          }
        },
        {
          "output_type": "display_data",
          "data": {
            "image/png": "[encoded data removed]",
            "text/plain": [
              "<Figure size 432x288 with 1 Axes>"
            ]
          },
          "metadata": {
            "tags": [],
            "needs_background": "light"
          }
        },
        {
          "output_type": "display_data",
          "data": {
            "image/png": "[encoded data removed]",
            "text/plain": [
              "<Figure size 432x288 with 1 Axes>"
            ]
          },
          "metadata": {
            "tags": [],
            "needs_background": "light"
          }
        },
        {
          "output_type": "display_data",
          "data": {
            "image/png": "[encoded data removed]",
            "text/plain": [
              "<Figure size 432x288 with 1 Axes>"
            ]
          },
          "metadata": {
            "tags": [],
            "needs_background": "light"
          }
        }
      ]
    },
    {
      "cell_type": "code",
      "metadata": {
        "colab": {
          "base_uri": "https://localhost:8080/",
          "height": 1000
        },
        "id": "B3FI6OML4deF",
        "outputId": "a1c17cb7-93c0-4b96-fccd-9b9ed15ec16f"
      },
      "source": [
        "for clusters in range(3,7):\n",
        "    fig, axes = plt.subplots(1,1,figsize= (5, 5))\n",
        "    kmeans = KMeans(n_clusters=clusters, init='k-means++', max_iter=300, n_init=10, random_state=0)\n",
        "    pred_y = kmeans.fit_predict(data[['b_h_norm', 'b_w_norm']])\n",
        "    anchors = kmeans.cluster_centers_\n",
        "    for i in range(0, clusters):\n",
        "        # ax.add_patch(Rectangle((0, 0), anchors[i,0], anchors[i,1],color=plt.cm.RdYlBu(i*40)))\n",
        "        axes.add_patch(Rectangle((-1*anchors[i][0]/2 + 0.5, -1*anchors[i][1]/2 + 0.5), anchors[i][0], anchors[i][1], fill=False, linewidth=2))\n",
        "    print(\"Anchor Boxes Centroids\")\n",
        "    print(kmeans.cluster_centers_)\n",
        "    axes.set_title(f'{clusters} clusters')\n",
        "    axes.axis('off')\n",
        "    plt.show()"
      ],
      "execution_count": 63,
      "outputs": [
        {
          "output_type": "stream",
          "text": [
            "Anchor Boxes Centroids\n",
            "[[0.28711913 0.28974134]\n",
            " [0.20134954 0.69289688]\n",
            " [0.69201832 0.20031795]]\n"
          ],
          "name": "stdout"
        },
        {
          "output_type": "display_data",
          "data": {
            "image/png": "[encoded data removed]",
            "text/plain": [
              "<Figure size 360x360 with 1 Axes>"
            ]
          },
          "metadata": {
            "tags": [],
            "needs_background": "light"
          }
        },
        {
          "output_type": "stream",
          "text": [
            "Anchor Boxes Centroids\n",
            "[[0.23465354 0.49395323]\n",
            " [0.74280724 0.20139058]\n",
            " [0.3259426  0.22350963]\n",
            " [0.15940826 0.99057558]]\n"
          ],
          "name": "stdout"
        },
        {
          "output_type": "display_data",
          "data": {
            "image/png": "[encoded data removed]",
            "text/plain": [
              "<Figure size 360x360 with 1 Axes>"
            ]
          },
          "metadata": {
            "tags": [],
            "needs_background": "light"
          }
        },
        {
          "output_type": "stream",
          "text": [
            "Anchor Boxes Centroids\n",
            "[[0.22692335 0.22548399]\n",
            " [0.99619036 0.15402617]\n",
            " [0.23484426 0.51352989]\n",
            " [0.15753439 1.00474685]\n",
            " [0.51136221 0.24406117]]\n"
          ],
          "name": "stdout"
        },
        {
          "output_type": "display_data",
          "data": {
            "image/png": "[encoded data removed]",
            "text/plain": [
              "<Figure size 360x360 with 1 Axes>"
            ]
          },
          "metadata": {
            "tags": [],
            "needs_background": "light"
          }
        },
        {
          "output_type": "stream",
          "text": [
            "Anchor Boxes Centroids\n",
            "[[0.17502765 0.5546443 ]\n",
            " [0.55018471 0.18121752]\n",
            " [0.22389558 0.22449003]\n",
            " [0.15414845 1.0917331 ]\n",
            " [1.06159694 0.15521382]\n",
            " [0.40994462 0.41654505]]\n"
          ],
          "name": "stdout"
        },
        {
          "output_type": "display_data",
          "data": {
            "image/png": "[encoded data removed]",
            "text/plain": [
              "<Figure size 360x360 with 1 Axes>"
            ]
          },
          "metadata": {
            "tags": [],
            "needs_background": "light"
          }
        }
      ]
    },
    {
      "cell_type": "code",
      "metadata": {
        "id": "e6LYcwRm88S1"
      },
      "source": [
        ""
      ],
      "execution_count": null,
      "outputs": []
    }
  ]
}