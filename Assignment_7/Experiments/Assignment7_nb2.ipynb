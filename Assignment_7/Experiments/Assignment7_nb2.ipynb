{
  "nbformat": 4,
  "nbformat_minor": 0,
  "metadata": {
    "colab": {
      "name": "Assignment7 Final.ipynb",
      "provenance": [],
      "collapsed_sections": [],
      "include_colab_link": true
    },
    "kernelspec": {
      "name": "python3",
      "display_name": "Python 3"
    },
    "language_info": {
      "name": "python"
    },
    "accelerator": "GPU",
    "widgets": {
      "application/vnd.jupyter.widget-state+json": {
        "2da78aafbc474eceba1e5cea5a7a210d": {
          "model_module": "@jupyter-widgets/controls",
          "model_name": "HBoxModel",
          "state": {
            "_view_name": "HBoxView",
            "_dom_classes": [],
            "_model_name": "HBoxModel",
            "_view_module": "@jupyter-widgets/controls",
            "_model_module_version": "1.5.0",
            "_view_count": null,
            "_view_module_version": "1.5.0",
            "box_style": "",
            "layout": "IPY_MODEL_9b2a82ee135747a4a39117a74b9ee3e1",
            "_model_module": "@jupyter-widgets/controls",
            "children": [
              "IPY_MODEL_def154bcda6c4143b114a7fbbf6a367d",
              "IPY_MODEL_6c1b4525294f44c7990c32d3d30eb482"
            ]
          }
        },
        "9b2a82ee135747a4a39117a74b9ee3e1": {
          "model_module": "@jupyter-widgets/base",
          "model_name": "LayoutModel",
          "state": {
            "_view_name": "LayoutView",
            "grid_template_rows": null,
            "right": null,
            "justify_content": null,
            "_view_module": "@jupyter-widgets/base",
            "overflow": null,
            "_model_module_version": "1.2.0",
            "_view_count": null,
            "flex_flow": null,
            "width": null,
            "min_width": null,
            "border": null,
            "align_items": null,
            "bottom": null,
            "_model_module": "@jupyter-widgets/base",
            "top": null,
            "grid_column": null,
            "overflow_y": null,
            "overflow_x": null,
            "grid_auto_flow": null,
            "grid_area": null,
            "grid_template_columns": null,
            "flex": null,
            "_model_name": "LayoutModel",
            "justify_items": null,
            "grid_row": null,
            "max_height": null,
            "align_content": null,
            "visibility": null,
            "align_self": null,
            "height": null,
            "min_height": null,
            "padding": null,
            "grid_auto_rows": null,
            "grid_gap": null,
            "max_width": null,
            "order": null,
            "_view_module_version": "1.2.0",
            "grid_template_areas": null,
            "object_position": null,
            "object_fit": null,
            "grid_auto_columns": null,
            "margin": null,
            "display": null,
            "left": null
          }
        },
        "def154bcda6c4143b114a7fbbf6a367d": {
          "model_module": "@jupyter-widgets/controls",
          "model_name": "FloatProgressModel",
          "state": {
            "_view_name": "ProgressView",
            "style": "IPY_MODEL_f31cd2c9903243e398fe5c63115240b2",
            "_dom_classes": [],
            "description": "",
            "_model_name": "FloatProgressModel",
            "bar_style": "success",
            "max": 170498071,
            "_view_module": "@jupyter-widgets/controls",
            "_model_module_version": "1.5.0",
            "value": 170498071,
            "_view_count": null,
            "_view_module_version": "1.5.0",
            "orientation": "horizontal",
            "min": 0,
            "description_tooltip": null,
            "_model_module": "@jupyter-widgets/controls",
            "layout": "IPY_MODEL_ee25775db7964258826bda5506cd8dea"
          }
        },
        "6c1b4525294f44c7990c32d3d30eb482": {
          "model_module": "@jupyter-widgets/controls",
          "model_name": "HTMLModel",
          "state": {
            "_view_name": "HTMLView",
            "style": "IPY_MODEL_66468b3ba1354d7fbe576ff248877d8e",
            "_dom_classes": [],
            "description": "",
            "_model_name": "HTMLModel",
            "placeholder": "​",
            "_view_module": "@jupyter-widgets/controls",
            "_model_module_version": "1.5.0",
            "value": " 170499072/? [00:40&lt;00:00, 4166599.19it/s]",
            "_view_count": null,
            "_view_module_version": "1.5.0",
            "description_tooltip": null,
            "_model_module": "@jupyter-widgets/controls",
            "layout": "IPY_MODEL_09846984253744f8938e4541098dc01f"
          }
        },
        "f31cd2c9903243e398fe5c63115240b2": {
          "model_module": "@jupyter-widgets/controls",
          "model_name": "ProgressStyleModel",
          "state": {
            "_view_name": "StyleView",
            "_model_name": "ProgressStyleModel",
            "description_width": "initial",
            "_view_module": "@jupyter-widgets/base",
            "_model_module_version": "1.5.0",
            "_view_count": null,
            "_view_module_version": "1.2.0",
            "bar_color": null,
            "_model_module": "@jupyter-widgets/controls"
          }
        },
        "ee25775db7964258826bda5506cd8dea": {
          "model_module": "@jupyter-widgets/base",
          "model_name": "LayoutModel",
          "state": {
            "_view_name": "LayoutView",
            "grid_template_rows": null,
            "right": null,
            "justify_content": null,
            "_view_module": "@jupyter-widgets/base",
            "overflow": null,
            "_model_module_version": "1.2.0",
            "_view_count": null,
            "flex_flow": null,
            "width": null,
            "min_width": null,
            "border": null,
            "align_items": null,
            "bottom": null,
            "_model_module": "@jupyter-widgets/base",
            "top": null,
            "grid_column": null,
            "overflow_y": null,
            "overflow_x": null,
            "grid_auto_flow": null,
            "grid_area": null,
            "grid_template_columns": null,
            "flex": null,
            "_model_name": "LayoutModel",
            "justify_items": null,
            "grid_row": null,
            "max_height": null,
            "align_content": null,
            "visibility": null,
            "align_self": null,
            "height": null,
            "min_height": null,
            "padding": null,
            "grid_auto_rows": null,
            "grid_gap": null,
            "max_width": null,
            "order": null,
            "_view_module_version": "1.2.0",
            "grid_template_areas": null,
            "object_position": null,
            "object_fit": null,
            "grid_auto_columns": null,
            "margin": null,
            "display": null,
            "left": null
          }
        },
        "66468b3ba1354d7fbe576ff248877d8e": {
          "model_module": "@jupyter-widgets/controls",
          "model_name": "DescriptionStyleModel",
          "state": {
            "_view_name": "StyleView",
            "_model_name": "DescriptionStyleModel",
            "description_width": "",
            "_view_module": "@jupyter-widgets/base",
            "_model_module_version": "1.5.0",
            "_view_count": null,
            "_view_module_version": "1.2.0",
            "_model_module": "@jupyter-widgets/controls"
          }
        },
        "09846984253744f8938e4541098dc01f": {
          "model_module": "@jupyter-widgets/base",
          "model_name": "LayoutModel",
          "state": {
            "_view_name": "LayoutView",
            "grid_template_rows": null,
            "right": null,
            "justify_content": null,
            "_view_module": "@jupyter-widgets/base",
            "overflow": null,
            "_model_module_version": "1.2.0",
            "_view_count": null,
            "flex_flow": null,
            "width": null,
            "min_width": null,
            "border": null,
            "align_items": null,
            "bottom": null,
            "_model_module": "@jupyter-widgets/base",
            "top": null,
            "grid_column": null,
            "overflow_y": null,
            "overflow_x": null,
            "grid_auto_flow": null,
            "grid_area": null,
            "grid_template_columns": null,
            "flex": null,
            "_model_name": "LayoutModel",
            "justify_items": null,
            "grid_row": null,
            "max_height": null,
            "align_content": null,
            "visibility": null,
            "align_self": null,
            "height": null,
            "min_height": null,
            "padding": null,
            "grid_auto_rows": null,
            "grid_gap": null,
            "max_width": null,
            "order": null,
            "_view_module_version": "1.2.0",
            "grid_template_areas": null,
            "object_position": null,
            "object_fit": null,
            "grid_auto_columns": null,
            "margin": null,
            "display": null,
            "left": null
          }
        }
      }
    }
  },
  "cells": [
    {
      "cell_type": "markdown",
      "metadata": {
        "id": "view-in-github",
        "colab_type": "text"
      },
      "source": [
        "<a href=\"https://colab.research.google.com/github/NSR9/Extensive-Vision-AI/blob/main/Assignment_7/Experiments/Assignment7_nb2.ipynb\" target=\"_parent\"><img src=\"https://colab.research.google.com/assets/colab-badge.svg\" alt=\"Open In Colab\"/></a>"
      ]
    },
    {
      "cell_type": "code",
      "metadata": {
        "colab": {
          "base_uri": "https://localhost:8080/"
        },
        "id": "ccHTmmCGRFWQ",
        "outputId": "5becbcb9-c597-43db-b6c9-8d7ef7cce22b"
      },
      "source": [
        "!pip install git+https://github.com/albumentations-team/albumentations.git"
      ],
      "execution_count": 1,
      "outputs": [
        {
          "output_type": "stream",
          "text": [
            "Collecting git+https://github.com/albumentations-team/albumentations.git\n",
            "  Cloning https://github.com/albumentations-team/albumentations.git to /tmp/pip-req-build-pieag8up\n",
            "  Running command git clone -q https://github.com/albumentations-team/albumentations.git /tmp/pip-req-build-pieag8up\n",
            "Requirement already satisfied (use --upgrade to upgrade): albumentations==1.0.0 from git+https://github.com/albumentations-team/albumentations.git in /usr/local/lib/python3.7/dist-packages\n",
            "Requirement already satisfied: numpy>=1.11.1 in /usr/local/lib/python3.7/dist-packages (from albumentations==1.0.0) (1.19.5)\n",
            "Requirement already satisfied: scipy in /usr/local/lib/python3.7/dist-packages (from albumentations==1.0.0) (1.4.1)\n",
            "Requirement already satisfied: scikit-image>=0.16.1 in /usr/local/lib/python3.7/dist-packages (from albumentations==1.0.0) (0.16.2)\n",
            "Requirement already satisfied: PyYAML in /usr/local/lib/python3.7/dist-packages (from albumentations==1.0.0) (3.13)\n",
            "Requirement already satisfied: opencv-python>=4.1.1 in /usr/local/lib/python3.7/dist-packages (from albumentations==1.0.0) (4.1.2.30)\n",
            "Requirement already satisfied: matplotlib!=3.0.0,>=2.0.0 in /usr/local/lib/python3.7/dist-packages (from scikit-image>=0.16.1->albumentations==1.0.0) (3.2.2)\n",
            "Requirement already satisfied: PyWavelets>=0.4.0 in /usr/local/lib/python3.7/dist-packages (from scikit-image>=0.16.1->albumentations==1.0.0) (1.1.1)\n",
            "Requirement already satisfied: pillow>=4.3.0 in /usr/local/lib/python3.7/dist-packages (from scikit-image>=0.16.1->albumentations==1.0.0) (7.1.2)\n",
            "Requirement already satisfied: networkx>=2.0 in /usr/local/lib/python3.7/dist-packages (from scikit-image>=0.16.1->albumentations==1.0.0) (2.5.1)\n",
            "Requirement already satisfied: imageio>=2.3.0 in /usr/local/lib/python3.7/dist-packages (from scikit-image>=0.16.1->albumentations==1.0.0) (2.4.1)\n",
            "Requirement already satisfied: pyparsing!=2.0.4,!=2.1.2,!=2.1.6,>=2.0.1 in /usr/local/lib/python3.7/dist-packages (from matplotlib!=3.0.0,>=2.0.0->scikit-image>=0.16.1->albumentations==1.0.0) (2.4.7)\n",
            "Requirement already satisfied: kiwisolver>=1.0.1 in /usr/local/lib/python3.7/dist-packages (from matplotlib!=3.0.0,>=2.0.0->scikit-image>=0.16.1->albumentations==1.0.0) (1.3.1)\n",
            "Requirement already satisfied: python-dateutil>=2.1 in /usr/local/lib/python3.7/dist-packages (from matplotlib!=3.0.0,>=2.0.0->scikit-image>=0.16.1->albumentations==1.0.0) (2.8.1)\n",
            "Requirement already satisfied: cycler>=0.10 in /usr/local/lib/python3.7/dist-packages (from matplotlib!=3.0.0,>=2.0.0->scikit-image>=0.16.1->albumentations==1.0.0) (0.10.0)\n",
            "Requirement already satisfied: decorator<5,>=4.3 in /usr/local/lib/python3.7/dist-packages (from networkx>=2.0->scikit-image>=0.16.1->albumentations==1.0.0) (4.4.2)\n",
            "Requirement already satisfied: six>=1.5 in /usr/local/lib/python3.7/dist-packages (from python-dateutil>=2.1->matplotlib!=3.0.0,>=2.0.0->scikit-image>=0.16.1->albumentations==1.0.0) (1.15.0)\n",
            "Building wheels for collected packages: albumentations\n",
            "  Building wheel for albumentations (setup.py) ... \u001b[?25l\u001b[?25hdone\n",
            "  Created wheel for albumentations: filename=albumentations-1.0.0-cp37-none-any.whl size=98151 sha256=23fe9e5873a95e54373814cf4d534b803e16b12306c76687bf01765cf7ecdf46\n",
            "  Stored in directory: /tmp/pip-ephem-wheel-cache-7zi2ti5f/wheels/e2/85/3e/2a40fac5cc1f43ced656603bb2fca1327b30ec7de1b1b66517\n",
            "Successfully built albumentations\n"
          ],
          "name": "stdout"
        }
      ]
    },
    {
      "cell_type": "code",
      "metadata": {
        "id": "Cg5xdYySRdWa"
      },
      "source": [
        "from __future__ import print_function\n",
        "import torch\n",
        "import torch.nn as nn\n",
        "import torch.optim as optim\n",
        "import torch.nn.functional as F\n",
        "from torch.utils.data import DataLoader\n",
        "from torchvision import datasets, transforms\n",
        "\n",
        "# Let's visualize some of the images\n",
        "%matplotlib inline\n",
        "import cv2\n",
        "import numpy as np\n",
        "import albumentations as A\n",
        "import matplotlib.pyplot as plt\n",
        "from albumentations.pytorch import ToTensorV2\n",
        "\n",
        "from tqdm import tqdm \n",
        "\n",
        "from torch.optim.lr_scheduler import StepLR,OneCycleLR"
      ],
      "execution_count": 2,
      "outputs": []
    },
    {
      "cell_type": "code",
      "metadata": {
        "id": "NMax2JS4Re5W"
      },
      "source": [
        "class Transforms:\n",
        "    def __init__(self, transforms: A.Compose):\n",
        "        self.transforms = transforms\n",
        "\n",
        "    def __call__(self, img, *args, **kwargs):\n",
        "        return self.transforms(image=np.array(img))"
      ],
      "execution_count": 3,
      "outputs": []
    },
    {
      "cell_type": "markdown",
      "metadata": {
        "id": "qTf6Z4Ekhutz"
      },
      "source": [
        "### **Transformations**"
      ]
    },
    {
      "cell_type": "markdown",
      "metadata": {
        "id": "58T8on5lhz1X"
      },
      "source": [
        ""
      ]
    },
    {
      "cell_type": "code",
      "metadata": {
        "colab": {
          "base_uri": "https://localhost:8080/"
        },
        "id": "qlptlmhKRrPE",
        "outputId": "d5e7ecb9-b508-4797-85c0-b12b90156bca"
      },
      "source": [
        "SEED = 42\n",
        "\n",
        "# CUDA?\n",
        "cuda = torch.cuda.is_available()\n",
        "print(\"CUDA Available?\", cuda)\n",
        "\n",
        "# For reproducibility\n",
        "torch.manual_seed(SEED)\n",
        "\n",
        "if cuda:\n",
        "    torch.cuda.manual_seed(SEED)"
      ],
      "execution_count": 4,
      "outputs": [
        {
          "output_type": "stream",
          "text": [
            "CUDA Available? True\n"
          ],
          "name": "stdout"
        }
      ]
    },
    {
      "cell_type": "code",
      "metadata": {
        "id": "AH67M6tlRtNT",
        "colab": {
          "base_uri": "https://localhost:8080/",
          "height": 182
        },
        "outputId": "28b81296-d965-4da3-e0ef-2d1d44d815d2"
      },
      "source": [
        ""
      ],
      "execution_count": 5,
      "outputs": [
        {
          "output_type": "error",
          "ename": "NameError",
          "evalue": "ignored",
          "traceback": [
            "\u001b[0;31m---------------------------------------------------------------------------\u001b[0m",
            "\u001b[0;31mNameError\u001b[0m                                 Traceback (most recent call last)",
            "\u001b[0;32m<ipython-input-5-c7174e1191cd>\u001b[0m in \u001b[0;36m<module>\u001b[0;34m()\u001b[0m\n\u001b[0;32m----> 1\u001b[0;31m \u001b[0mtrain_transform\u001b[0m \u001b[0;34m=\u001b[0m \u001b[0mTransforms\u001b[0m\u001b[0;34m(\u001b[0m\u001b[0mtrain_transform\u001b[0m\u001b[0;34m)\u001b[0m\u001b[0;34m\u001b[0m\u001b[0;34m\u001b[0m\u001b[0m\n\u001b[0m\u001b[1;32m      2\u001b[0m \u001b[0mtest_transform\u001b[0m \u001b[0;34m=\u001b[0m \u001b[0mTransforms\u001b[0m\u001b[0;34m(\u001b[0m\u001b[0mtest_transform\u001b[0m\u001b[0;34m)\u001b[0m\u001b[0;34m\u001b[0m\u001b[0;34m\u001b[0m\u001b[0m\n",
            "\u001b[0;31mNameError\u001b[0m: name 'train_transform' is not defined"
          ]
        }
      ]
    },
    {
      "cell_type": "code",
      "metadata": {
        "colab": {
          "base_uri": "https://localhost:8080/",
          "height": 101,
          "referenced_widgets": [
            "2da78aafbc474eceba1e5cea5a7a210d",
            "9b2a82ee135747a4a39117a74b9ee3e1",
            "def154bcda6c4143b114a7fbbf6a367d",
            "6c1b4525294f44c7990c32d3d30eb482",
            "f31cd2c9903243e398fe5c63115240b2",
            "ee25775db7964258826bda5506cd8dea",
            "66468b3ba1354d7fbe576ff248877d8e",
            "09846984253744f8938e4541098dc01f"
          ]
        },
        "id": "emhsOMFpjeri",
        "outputId": "ce0761af-18b3-4ee8-8527-cb8d372e0718"
      },
      "source": [
        "train = datasets.CIFAR10(root='./data', train=True,download=True)"
      ],
      "execution_count": 8,
      "outputs": [
        {
          "output_type": "stream",
          "text": [
            "Downloading https://www.cs.toronto.edu/~kriz/cifar-10-python.tar.gz to ./data/cifar-10-python.tar.gz\n"
          ],
          "name": "stdout"
        },
        {
          "output_type": "display_data",
          "data": {
            "application/vnd.jupyter.widget-view+json": {
              "model_id": "2da78aafbc474eceba1e5cea5a7a210d",
              "version_minor": 0,
              "version_major": 2
            },
            "text/plain": [
              "HBox(children=(FloatProgress(value=0.0, max=170498071.0), HTML(value='')))"
            ]
          },
          "metadata": {
            "tags": []
          }
        },
        {
          "output_type": "stream",
          "text": [
            "\n",
            "Extracting ./data/cifar-10-python.tar.gz to ./data\n"
          ],
          "name": "stdout"
        }
      ]
    },
    {
      "cell_type": "code",
      "metadata": {
        "colab": {
          "base_uri": "https://localhost:8080/"
        },
        "id": "8y5N4D7Ojn9T",
        "outputId": "99e6ecb2-9ab1-402c-a892-b5a9c1c1b6de"
      },
      "source": [
        "train.classes"
      ],
      "execution_count": 9,
      "outputs": [
        {
          "output_type": "execute_result",
          "data": {
            "text/plain": [
              "['airplane',\n",
              " 'automobile',\n",
              " 'bird',\n",
              " 'cat',\n",
              " 'deer',\n",
              " 'dog',\n",
              " 'frog',\n",
              " 'horse',\n",
              " 'ship',\n",
              " 'truck']"
            ]
          },
          "metadata": {
            "tags": []
          },
          "execution_count": 9
        }
      ]
    },
    {
      "cell_type": "code",
      "metadata": {
        "colab": {
          "base_uri": "https://localhost:8080/"
        },
        "id": "JIyzoQkgjtcx",
        "outputId": "ee447827-066b-4b9e-c499-c79478d3507c"
      },
      "source": [
        "train_data = train.data\n",
        "print(' - Numpy Shape:', train_data.shape)\n",
        "print(' - min:', np.min(train_data, axis=(0,1,2)) / 255.)\n",
        "print(' - max:', np.max(train_data, axis=(0,1,2)) / 255.)\n",
        "print(' - mean:', np.mean(train_data, axis=(0,1,2)) / 255.)\n",
        "print(' - std:', np.std(train_data, axis=(0,1,2)) / 255.)\n",
        "print(' - var:', np.var(train_data, axis=(0,1,2)) / 255.)"
      ],
      "execution_count": 10,
      "outputs": [
        {
          "output_type": "stream",
          "text": [
            " - Numpy Shape: (50000, 32, 32, 3)\n",
            " - min: [0. 0. 0.]\n",
            " - max: [1. 1. 1.]\n",
            " - mean: [0.49139968 0.48215841 0.44653091]\n",
            " - std: [0.24703223 0.24348513 0.26158784]\n",
            " - var: [15.56135559 15.11767693 17.44919073]\n"
          ],
          "name": "stdout"
        }
      ]
    },
    {
      "cell_type": "code",
      "metadata": {
        "id": "rNDuLCNXRgtC"
      },
      "source": [
        "train_transform = A.Compose([\n",
        "            A.HorizontalFlip(p=0.3),\n",
        "            A.ShiftScaleRotate(shift_limit=0.1, scale_limit=0.1, rotate_limit=30, interpolation=cv2.INTER_LINEAR, border_mode=cv2.BORDER_REFLECT_101, always_apply=False, p=0.5),\n",
        "            A.CoarseDropout(max_holes = 1, max_height=16, max_width=16, min_holes = 1, min_height=16, min_width=16, fill_value=(0.4914, 0.4822, 0.4465), mask_fill_value = None),\n",
        "            A.Normalize(mean=(0.4914, 0.4822, 0.4465), std=(0.247, 0.243, 0.261)),\n",
        "            A.ToGray(),\n",
        "            ToTensorV2(),\n",
        "        ])\n",
        "\n",
        "test_transform = A.Compose([\n",
        "    A.Normalize(mean=(0.4914, 0.4822, 0.4465), std=(0.247, 0.243, 0.261)),\n",
        "    ToTensorV2(),\n",
        "])"
      ],
      "execution_count": 11,
      "outputs": []
    },
    {
      "cell_type": "code",
      "metadata": {
        "id": "QR6S5rtvtyYZ"
      },
      "source": [
        "train_transform = Transforms(train_transform)\n",
        "test_transform = Transforms(test_transform)"
      ],
      "execution_count": 12,
      "outputs": []
    },
    {
      "cell_type": "markdown",
      "metadata": {
        "id": "XCdrJAioUiuQ"
      },
      "source": [
        ""
      ]
    },
    {
      "cell_type": "code",
      "metadata": {
        "colab": {
          "base_uri": "https://localhost:8080/"
        },
        "id": "Jyv0BOriRu4_",
        "outputId": "edc77f94-4333-4957-b773-4194ca297066"
      },
      "source": [
        "train = datasets.CIFAR10(root='./data', train=True,\n",
        "                        download=True, transform=train_transform)\n",
        "test = datasets.CIFAR10(root='./data', download=True, transform=test_transform)\n",
        "\n",
        "train_loader = torch.utils.data.DataLoader(train, \n",
        "                                          batch_size=128, \n",
        "                                          shuffle=True,\n",
        "                                          num_workers=2, \n",
        "                                          pin_memory=True)\n",
        "test_loader = torch.utils.data.DataLoader(test, \n",
        "                                          batch_size=128,  \n",
        "                                          shuffle=False,\n",
        "                                          num_workers=2, \n",
        "                                          pin_memory=True)"
      ],
      "execution_count": 13,
      "outputs": [
        {
          "output_type": "stream",
          "text": [
            "Files already downloaded and verified\n",
            "Files already downloaded and verified\n"
          ],
          "name": "stdout"
        }
      ]
    },
    {
      "cell_type": "code",
      "metadata": {
        "colab": {
          "base_uri": "https://localhost:8080/",
          "height": 286
        },
        "id": "VvJ1RQrsRw37",
        "outputId": "7aa2a5dd-3afc-4b98-8e72-355a4f84c169"
      },
      "source": [
        "import matplotlib.pyplot as plt\n",
        "import numpy as np\n",
        "import torchvision\n",
        "# functions to show an image\n",
        "\n",
        "\n",
        "def imshow(img):\n",
        "    img = img / 2 + 0.5     # unnormalize\n",
        "    npimg = img.numpy()\n",
        "    plt.imshow(np.transpose(npimg, (1, 2, 0)))\n",
        "\n",
        "\n",
        "# get some random training images\n",
        "dataiter = iter(train_loader)\n",
        "images, labels = dataiter.next()\n",
        "\n",
        "# show images\n",
        "imshow(torchvision.utils.make_grid(images[\"image\"]))\n",
        "# print labels\n",
        "# print(' '.join('%5s' % classes[labels[j]] for j in range(4)))"
      ],
      "execution_count": 14,
      "outputs": [
        {
          "output_type": "stream",
          "text": [
            "Clipping input data to the valid range for imshow with RGB data ([0..1] for floats or [0..255] for integers).\n"
          ],
          "name": "stderr"
        },
        {
          "output_type": "display_data",
          "data": {
            "image/png": "[encoded data removed]",
            "text/plain": [
              "<Figure size 432x288 with 1 Axes>"
            ]
          },
          "metadata": {
            "tags": [],
            "needs_background": "light"
          }
        }
      ]
    },
    {
      "cell_type": "code",
      "metadata": {
        "id": "hMY4Py1jR1Ot"
      },
      "source": [
        "use_cuda = torch.cuda.is_available()\n",
        "device = 'cuda:0' if use_cuda else 'cpu'"
      ],
      "execution_count": 15,
      "outputs": []
    },
    {
      "cell_type": "markdown",
      "metadata": {
        "id": "5QAK5VMxh7PM"
      },
      "source": [
        "### **Model Design**"
      ]
    },
    {
      "cell_type": "code",
      "metadata": {
        "id": "o27U-IAQR3Or"
      },
      "source": [
        "class Net(nn.Module):\n",
        "    def __init__(self, dropout):\n",
        "      \n",
        "        super(Net, self).__init__()\n",
        "        self.conv1 = nn.Sequential(\n",
        "            nn.Conv2d(in_channels=3, out_channels=32, kernel_size=(3, 3), padding=1, bias=False),# 32 32\n",
        "            nn.ReLU(),\n",
        "            nn.BatchNorm2d(32),\n",
        "            nn.Dropout(0.1),\n",
        "\n",
        "            nn.Conv2d(in_channels=32, out_channels=32, kernel_size=(3, 3), padding=1, bias=False),# 32 32\n",
        "            nn.ReLU(),\n",
        "            nn.BatchNorm2d(32),\n",
        "            nn.Dropout(0.1),\n",
        "\n",
        "            nn.Conv2d(in_channels=32, out_channels=64, kernel_size=(3, 3), padding=1, bias=False),# 32 32\n",
        "            nn.ReLU(),\n",
        "            nn.BatchNorm2d(64),\n",
        "            nn.Dropout(0.1),\n",
        "        )\n",
        "        self.trans1 = nn.Sequential(\n",
        "            nn.Conv2d(in_channels=64, out_channels=32, kernel_size=(1, 1), padding=0, bias=False) # 32 32\n",
        "        )\n",
        "        self.conv2 = nn.Sequential(\n",
        "            #nn.Conv2d(in_channels=32, out_channels=32, kernel_size=(3, 3), padding=0, bias=False),# 32 30\n",
        "            nn.Conv2d(in_channels=32, out_channels=32, kernel_size=(3, 3), groups=32, padding=0, bias=False), #depth_conv\n",
        "            nn.Conv2d(in_channels=32, out_channels=32, kernel_size=(1, 1), padding=0, bias=False), #point_conv\n",
        "            nn.ReLU(),\n",
        "            nn.BatchNorm2d(32),\n",
        "            nn.Dropout(0.1),\n",
        "            \n",
        "            #nn.Conv2d(in_channels=32, out_channels=32, kernel_size=(3, 3), padding=0, bias=False),# 30 28\n",
        "            nn.Conv2d(in_channels=32, out_channels=32, kernel_size=(3, 3), groups=32, padding=0, bias=False), #depth_conv\n",
        "            nn.Conv2d(in_channels=32, out_channels=32, kernel_size=(1, 1), padding=0, bias=False), #point_conv\n",
        "            nn.ReLU(),\n",
        "            nn.BatchNorm2d(32),\n",
        "            nn.Dropout(0.1),\n",
        "\n",
        "            #nn.Conv2d(in_channels=32, out_channels=32, kernel_size=(3, 3), padding=0, bias=False),# 28 26\n",
        "            nn.Conv2d(in_channels=32, out_channels=32, kernel_size=(3, 3), groups=32, padding=0, bias=False), #depth_conv\n",
        "            nn.Conv2d(in_channels=32, out_channels=32, kernel_size=(1, 1), padding=0, bias=False), #point_conv\n",
        "            nn.ReLU(),\n",
        "            nn.BatchNorm2d(32),\n",
        "            nn.Dropout(0.1),\n",
        "        )\n",
        "        # dilation\n",
        "        self.trans2 = nn.Sequential(\n",
        "            nn.Conv2d(in_channels = 32, out_channels = 16, kernel_size = (3, 3), stride = 1, padding = 0, dilation=2), # 26 22\n",
        "            nn.ReLU(),\n",
        "        )\n",
        "        self.conv3 = nn.Sequential(\n",
        "            #nn.Conv2d(in_channels=16, out_channels=32, kernel_size=(3, 3), padding=0, bias=False),# 22 20\n",
        "            nn.Conv2d(in_channels=16, out_channels=16, kernel_size=(3, 3), groups=16, padding=0, bias=False), #depth_conv\n",
        "            nn.Conv2d(in_channels=16, out_channels=32, kernel_size=(1, 1), padding=0, bias=False), #point_conv\n",
        "            nn.ReLU(),\n",
        "            nn.BatchNorm2d(32),\n",
        "            nn.Dropout(0.1),\n",
        "            \n",
        "            #nn.Conv2d(in_channels=32, out_channels=64, kernel_size=(3, 3), padding=0, bias=False),# 20 18\n",
        "            nn.Conv2d(in_channels=32, out_channels=32, kernel_size=(3, 3), groups=32, padding=0, bias=False), #depth_conv\n",
        "            nn.Conv2d(in_channels=32, out_channels=64, kernel_size=(1, 1), padding=0, bias=False), #point_conv\n",
        "            nn.ReLU(),\n",
        "            nn.BatchNorm2d(64),\n",
        "            nn.Dropout(0.1),\n",
        "\n",
        "            #nn.Conv2d(in_channels=64, out_channels=64, kernel_size=(3, 3), padding=0, bias=False),# 18 16\n",
        "            nn.Conv2d(in_channels=64, out_channels=64, kernel_size=(3, 3), groups=64, padding=0, bias=False), #depth_conv\n",
        "            nn.Conv2d(in_channels=64, out_channels=64, kernel_size=(1, 1), padding=0, bias=False), #point_conv\n",
        "            nn.ReLU(),\n",
        "            nn.BatchNorm2d(64),\n",
        "            nn.Dropout(0.1),\n",
        "        )\n",
        "              \n",
        "        self.trans3 = nn.Sequential(\n",
        "            nn.Conv2d(in_channels = 64, out_channels = 64, kernel_size = (3, 3), stride = 2, padding = 0), # 16 7\n",
        "            nn.ReLU(),\n",
        "            nn.Conv2d(in_channels=64, out_channels=16, kernel_size=(1, 1), padding=0, bias=False) # 7 7\n",
        "        )\n",
        "\n",
        "        self.conv4 = nn.Sequential(\n",
        "              nn.Conv2d(in_channels=16, out_channels=32, kernel_size=(3, 3), padding=0, bias=False),# 7 5\n",
        "              nn.ReLU(),\n",
        "              nn.BatchNorm2d(32),\n",
        "              nn.Dropout(0.1),\n",
        "              \n",
        "              nn.Conv2d(in_channels=32, out_channels=10, kernel_size=(3, 3), padding=0, bias=False),# 5 3\n",
        "            )\n",
        "        \n",
        "        self.avgpool2d = nn.AvgPool2d(kernel_size=3)\n",
        "        \n",
        "    def forward(self, x):\n",
        "        x = self.conv1(x)\n",
        "        x = self.trans1(x)\n",
        "        x = self.conv2(x)\n",
        "        x = self.trans2(x)\n",
        "        x = self.conv3(x)\n",
        "        x = self.trans3(x)\n",
        "        x = self.conv4(x)\n",
        "        x = self.avgpool2d(x)\n",
        "        x = x.view(-1, 10)\n",
        "        return F.log_softmax(x, dim=-1)"
      ],
      "execution_count": 16,
      "outputs": []
    },
    {
      "cell_type": "markdown",
      "metadata": {
        "id": "3dwITEP4h-iv"
      },
      "source": [
        "### **Model Summary**"
      ]
    },
    {
      "cell_type": "code",
      "metadata": {
        "colab": {
          "base_uri": "https://localhost:8080/"
        },
        "id": "RpB5YJPWSFom",
        "outputId": "ab01e28e-b50f-4532-df63-01ae04cd1073"
      },
      "source": [
        "!pip install torchsummary\n",
        "from torchsummary import summary\n",
        "use_cuda = torch.cuda.is_available()\n",
        "device = torch.device(\"cuda\" if use_cuda else \"cpu\")\n",
        "print(device)\n",
        "model = Net(dropout=0.01).to(device)\n",
        "summary(model, input_size=(3, 32, 32))"
      ],
      "execution_count": 17,
      "outputs": [
        {
          "output_type": "stream",
          "text": [
            "Requirement already satisfied: torchsummary in /usr/local/lib/python3.7/dist-packages (1.5.1)\n",
            "cuda\n",
            "----------------------------------------------------------------\n",
            "        Layer (type)               Output Shape         Param #\n",
            "================================================================\n",
            "            Conv2d-1           [-1, 32, 32, 32]             864\n",
            "              ReLU-2           [-1, 32, 32, 32]               0\n",
            "       BatchNorm2d-3           [-1, 32, 32, 32]              64\n",
            "           Dropout-4           [-1, 32, 32, 32]               0\n",
            "            Conv2d-5           [-1, 32, 32, 32]           9,216\n",
            "              ReLU-6           [-1, 32, 32, 32]               0\n",
            "       BatchNorm2d-7           [-1, 32, 32, 32]              64\n",
            "           Dropout-8           [-1, 32, 32, 32]               0\n",
            "            Conv2d-9           [-1, 64, 32, 32]          18,432\n",
            "             ReLU-10           [-1, 64, 32, 32]               0\n",
            "      BatchNorm2d-11           [-1, 64, 32, 32]             128\n",
            "          Dropout-12           [-1, 64, 32, 32]               0\n",
            "           Conv2d-13           [-1, 32, 32, 32]           2,048\n",
            "           Conv2d-14           [-1, 32, 30, 30]             288\n",
            "           Conv2d-15           [-1, 32, 30, 30]           1,024\n",
            "             ReLU-16           [-1, 32, 30, 30]               0\n",
            "      BatchNorm2d-17           [-1, 32, 30, 30]              64\n",
            "          Dropout-18           [-1, 32, 30, 30]               0\n",
            "           Conv2d-19           [-1, 32, 28, 28]             288\n",
            "           Conv2d-20           [-1, 32, 28, 28]           1,024\n",
            "             ReLU-21           [-1, 32, 28, 28]               0\n",
            "      BatchNorm2d-22           [-1, 32, 28, 28]              64\n",
            "          Dropout-23           [-1, 32, 28, 28]               0\n",
            "           Conv2d-24           [-1, 32, 26, 26]             288\n",
            "           Conv2d-25           [-1, 32, 26, 26]           1,024\n",
            "             ReLU-26           [-1, 32, 26, 26]               0\n",
            "      BatchNorm2d-27           [-1, 32, 26, 26]              64\n",
            "          Dropout-28           [-1, 32, 26, 26]               0\n",
            "           Conv2d-29           [-1, 16, 22, 22]           4,624\n",
            "             ReLU-30           [-1, 16, 22, 22]               0\n",
            "           Conv2d-31           [-1, 16, 20, 20]             144\n",
            "           Conv2d-32           [-1, 32, 20, 20]             512\n",
            "             ReLU-33           [-1, 32, 20, 20]               0\n",
            "      BatchNorm2d-34           [-1, 32, 20, 20]              64\n",
            "          Dropout-35           [-1, 32, 20, 20]               0\n",
            "           Conv2d-36           [-1, 32, 18, 18]             288\n",
            "           Conv2d-37           [-1, 64, 18, 18]           2,048\n",
            "             ReLU-38           [-1, 64, 18, 18]               0\n",
            "      BatchNorm2d-39           [-1, 64, 18, 18]             128\n",
            "          Dropout-40           [-1, 64, 18, 18]               0\n",
            "           Conv2d-41           [-1, 64, 16, 16]             576\n",
            "           Conv2d-42           [-1, 64, 16, 16]           4,096\n",
            "             ReLU-43           [-1, 64, 16, 16]               0\n",
            "      BatchNorm2d-44           [-1, 64, 16, 16]             128\n",
            "          Dropout-45           [-1, 64, 16, 16]               0\n",
            "           Conv2d-46             [-1, 64, 7, 7]          36,928\n",
            "             ReLU-47             [-1, 64, 7, 7]               0\n",
            "           Conv2d-48             [-1, 16, 7, 7]           1,024\n",
            "           Conv2d-49             [-1, 32, 5, 5]           4,608\n",
            "             ReLU-50             [-1, 32, 5, 5]               0\n",
            "      BatchNorm2d-51             [-1, 32, 5, 5]              64\n",
            "          Dropout-52             [-1, 32, 5, 5]               0\n",
            "           Conv2d-53             [-1, 10, 3, 3]           2,880\n",
            "        AvgPool2d-54             [-1, 10, 1, 1]               0\n",
            "================================================================\n",
            "Total params: 93,056\n",
            "Trainable params: 93,056\n",
            "Non-trainable params: 0\n",
            "----------------------------------------------------------------\n",
            "Input size (MB): 0.01\n",
            "Forward/backward pass size (MB): 9.10\n",
            "Params size (MB): 0.35\n",
            "Estimated Total Size (MB): 9.47\n",
            "----------------------------------------------------------------\n"
          ],
          "name": "stdout"
        }
      ]
    },
    {
      "cell_type": "markdown",
      "metadata": {
        "id": "JCacX6kPiGBJ"
      },
      "source": [
        "### **Train Function**"
      ]
    },
    {
      "cell_type": "code",
      "metadata": {
        "id": "2x4QNPgMSJ66"
      },
      "source": [
        "def train(model, device, train_loader, optimizer, epoch,scheduler,criterion):\n",
        "\n",
        "  model.train()\n",
        "  pbar = tqdm(train_loader)\n",
        "  \n",
        "  correct = 0\n",
        "  processed = 0\n",
        "  train_loss = 0\n",
        "  \n",
        "  lambda_l1 = 0.001\n",
        "  for batch_idx, (data, target) in enumerate(pbar):\n",
        "    # get samples\n",
        "    data, target = data[\"image\"].to(device), target.to(device)\n",
        "\n",
        "    # Init\n",
        "    optimizer.zero_grad()\n",
        "\n",
        "    # Predict\n",
        "    y_pred = model(data)\n",
        "\n",
        "    # Calculate loss\n",
        "    loss = criterion(y_pred, target)\n",
        "\n",
        "    train_loss += loss.item()\n",
        "\n",
        "    # Backpropagation\n",
        "    loss.backward()\n",
        "        \n",
        "    optimizer.step()\n",
        "    scheduler.step()\n",
        "    \n",
        "    pred = y_pred.argmax(dim=1, keepdim=True)  # get the index of the max log-probability\n",
        "    correct += pred.eq(target.view_as(pred)).sum().item()\n",
        "    processed += len(data)\n",
        "\n",
        "    pbar.set_description(desc= f'Loss={loss.item()} Batch_id={batch_idx} Accuracy={100*correct/processed:0.2f}')\n",
        "  train_acc = (100*correct/processed)\n",
        "  return train_acc, train_loss"
      ],
      "execution_count": 18,
      "outputs": []
    },
    {
      "cell_type": "markdown",
      "metadata": {
        "id": "rUNt3EP7iNGC"
      },
      "source": [
        "### **Test Function**"
      ]
    },
    {
      "cell_type": "code",
      "metadata": {
        "id": "R7L0LWyWSYcx"
      },
      "source": [
        "def test(model, device, test_loader,criterion):\n",
        "    model.eval()\n",
        "    test_loss = 0\n",
        "    correct = 0\n",
        "    with torch.no_grad():\n",
        "        for data, target in test_loader:\n",
        "            data, target = data[\"image\"].to(device), target.to(device)\n",
        "            output = model(data)\n",
        "            test_loss += F.cross_entropy(output, target).item()  # sum up batch loss\n",
        "            pred = output.argmax(dim=1, keepdim=True)  # get the index of the max log-probability\n",
        "            correct += pred.eq(target.view_as(pred)).sum().item()\n",
        "\n",
        "    test_loss /= len(test_loader.dataset)\n",
        "    # test_losses.append(test_loss)\n",
        "\n",
        "    print('\\nTest set: Average loss: {:.4f}, Accuracy: {}/{} ({:.2f}%)\\n'.format(\n",
        "        test_loss, correct, len(test_loader.dataset),\n",
        "        100. * correct / len(test_loader.dataset)))\n",
        "    \n",
        "    test_acc = (100. * correct / len(test_loader.dataset))\n",
        "    return test_acc, test_loss"
      ],
      "execution_count": 19,
      "outputs": []
    },
    {
      "cell_type": "markdown",
      "metadata": {
        "id": "P7aMS-lciTkG"
      },
      "source": [
        "### **Train And Test the Model**"
      ]
    },
    {
      "cell_type": "code",
      "metadata": {
        "colab": {
          "base_uri": "https://localhost:8080/"
        },
        "id": "DqByaLkcSbgI",
        "outputId": "928488f0-e8ab-493f-c4c4-098d295955a1"
      },
      "source": [
        "dropout=0.01\n",
        "epochs=100\n",
        "\n",
        "criterion = nn.CrossEntropyLoss() \n",
        "\n",
        "train_losses = []\n",
        "test_losses = []\n",
        "train_accuracy = []\n",
        "test_accuracy = []\n",
        "    \n",
        "model = Net(dropout).to(device)\n",
        "optimizer = optim.SGD(model.parameters(), lr=0.015, momentum=0.7)\n",
        "scheduler = OneCycleLR(optimizer, max_lr=0.015, epochs=100, steps_per_epoch=len(train_loader))\n",
        "\n",
        "for epoch in range(1, epochs + 1):\n",
        "    print(f'Epoch {epoch}:')\n",
        "    train_acc, train_loss = train(model, device, train_loader, optimizer,epoch,scheduler,criterion)\n",
        "    train_accuracy.append(train_acc)\n",
        "    train_losses.append(train_loss)\n",
        "\n",
        "    test_acc, test_loss = test(model, device, test_loader,criterion)\n",
        "    test_accuracy.append(test_acc)\n",
        "    test_losses.append(test_loss)"
      ],
      "execution_count": 20,
      "outputs": [
        {
          "output_type": "stream",
          "text": [
            "\r  0%|          | 0/391 [00:00<?, ?it/s]"
          ],
          "name": "stderr"
        },
        {
          "output_type": "stream",
          "text": [
            "Epoch 1:\n"
          ],
          "name": "stdout"
        },
        {
          "output_type": "stream",
          "text": [
            "Loss=2.0314149856567383 Batch_id=390 Accuracy=17.94: 100%|██████████| 391/391 [00:17<00:00, 22.47it/s]\n",
            "  0%|          | 0/391 [00:00<?, ?it/s]"
          ],
          "name": "stderr"
        },
        {
          "output_type": "stream",
          "text": [
            "\n",
            "Test set: Average loss: 0.0146, Accuracy: 14939/50000 (29.88%)\n",
            "\n",
            "Epoch 2:\n"
          ],
          "name": "stdout"
        },
        {
          "output_type": "stream",
          "text": [
            "Loss=1.7498247623443604 Batch_id=390 Accuracy=28.57: 100%|██████████| 391/391 [00:17<00:00, 22.74it/s]\n",
            "  0%|          | 0/391 [00:00<?, ?it/s]"
          ],
          "name": "stderr"
        },
        {
          "output_type": "stream",
          "text": [
            "\n",
            "Test set: Average loss: 0.0128, Accuracy: 19940/50000 (39.88%)\n",
            "\n",
            "Epoch 3:\n"
          ],
          "name": "stdout"
        },
        {
          "output_type": "stream",
          "text": [
            "Loss=1.8797616958618164 Batch_id=390 Accuracy=33.71: 100%|██████████| 391/391 [00:17<00:00, 22.58it/s]\n",
            "  0%|          | 0/391 [00:00<?, ?it/s]"
          ],
          "name": "stderr"
        },
        {
          "output_type": "stream",
          "text": [
            "\n",
            "Test set: Average loss: 0.0124, Accuracy: 21052/50000 (42.10%)\n",
            "\n",
            "Epoch 4:\n"
          ],
          "name": "stdout"
        },
        {
          "output_type": "stream",
          "text": [
            "Loss=1.6862719058990479 Batch_id=390 Accuracy=36.41: 100%|██████████| 391/391 [00:17<00:00, 22.34it/s]\n",
            "  0%|          | 0/391 [00:00<?, ?it/s]"
          ],
          "name": "stderr"
        },
        {
          "output_type": "stream",
          "text": [
            "\n",
            "Test set: Average loss: 0.0114, Accuracy: 22796/50000 (45.59%)\n",
            "\n",
            "Epoch 5:\n"
          ],
          "name": "stdout"
        },
        {
          "output_type": "stream",
          "text": [
            "Loss=1.4859000444412231 Batch_id=390 Accuracy=38.77: 100%|██████████| 391/391 [00:17<00:00, 22.23it/s]\n",
            "  0%|          | 0/391 [00:00<?, ?it/s]"
          ],
          "name": "stderr"
        },
        {
          "output_type": "stream",
          "text": [
            "\n",
            "Test set: Average loss: 0.0110, Accuracy: 24247/50000 (48.49%)\n",
            "\n",
            "Epoch 6:\n"
          ],
          "name": "stdout"
        },
        {
          "output_type": "stream",
          "text": [
            "Loss=1.6811813116073608 Batch_id=390 Accuracy=41.46: 100%|██████████| 391/391 [00:17<00:00, 22.27it/s]\n",
            "  0%|          | 0/391 [00:00<?, ?it/s]"
          ],
          "name": "stderr"
        },
        {
          "output_type": "stream",
          "text": [
            "\n",
            "Test set: Average loss: 0.0109, Accuracy: 25067/50000 (50.13%)\n",
            "\n",
            "Epoch 7:\n"
          ],
          "name": "stdout"
        },
        {
          "output_type": "stream",
          "text": [
            "Loss=1.5011119842529297 Batch_id=390 Accuracy=43.43: 100%|██████████| 391/391 [00:17<00:00, 22.45it/s]\n",
            "  0%|          | 0/391 [00:00<?, ?it/s]"
          ],
          "name": "stderr"
        },
        {
          "output_type": "stream",
          "text": [
            "\n",
            "Test set: Average loss: 0.0099, Accuracy: 26936/50000 (53.87%)\n",
            "\n",
            "Epoch 8:\n"
          ],
          "name": "stdout"
        },
        {
          "output_type": "stream",
          "text": [
            "Loss=1.6382240056991577 Batch_id=390 Accuracy=45.47: 100%|██████████| 391/391 [00:17<00:00, 22.34it/s]\n",
            "  0%|          | 0/391 [00:00<?, ?it/s]"
          ],
          "name": "stderr"
        },
        {
          "output_type": "stream",
          "text": [
            "\n",
            "Test set: Average loss: 0.0094, Accuracy: 28241/50000 (56.48%)\n",
            "\n",
            "Epoch 9:\n"
          ],
          "name": "stdout"
        },
        {
          "output_type": "stream",
          "text": [
            "Loss=1.7575018405914307 Batch_id=390 Accuracy=47.35: 100%|██████████| 391/391 [00:17<00:00, 22.22it/s]\n",
            "  0%|          | 0/391 [00:00<?, ?it/s]"
          ],
          "name": "stderr"
        },
        {
          "output_type": "stream",
          "text": [
            "\n",
            "Test set: Average loss: 0.0089, Accuracy: 29361/50000 (58.72%)\n",
            "\n",
            "Epoch 10:\n"
          ],
          "name": "stdout"
        },
        {
          "output_type": "stream",
          "text": [
            "Loss=1.3439009189605713 Batch_id=390 Accuracy=49.18: 100%|██████████| 391/391 [00:17<00:00, 22.28it/s]\n",
            "  0%|          | 0/391 [00:00<?, ?it/s]"
          ],
          "name": "stderr"
        },
        {
          "output_type": "stream",
          "text": [
            "\n",
            "Test set: Average loss: 0.0087, Accuracy: 30001/50000 (60.00%)\n",
            "\n",
            "Epoch 11:\n"
          ],
          "name": "stdout"
        },
        {
          "output_type": "stream",
          "text": [
            "Loss=1.2966703176498413 Batch_id=390 Accuracy=50.63: 100%|██████████| 391/391 [00:17<00:00, 22.31it/s]\n",
            "  0%|          | 0/391 [00:00<?, ?it/s]"
          ],
          "name": "stderr"
        },
        {
          "output_type": "stream",
          "text": [
            "\n",
            "Test set: Average loss: 0.0086, Accuracy: 30412/50000 (60.82%)\n",
            "\n",
            "Epoch 12:\n"
          ],
          "name": "stdout"
        },
        {
          "output_type": "stream",
          "text": [
            "Loss=1.374829649925232 Batch_id=390 Accuracy=51.75: 100%|██████████| 391/391 [00:17<00:00, 22.55it/s]\n",
            "  0%|          | 0/391 [00:00<?, ?it/s]"
          ],
          "name": "stderr"
        },
        {
          "output_type": "stream",
          "text": [
            "\n",
            "Test set: Average loss: 0.0084, Accuracy: 31180/50000 (62.36%)\n",
            "\n",
            "Epoch 13:\n"
          ],
          "name": "stdout"
        },
        {
          "output_type": "stream",
          "text": [
            "Loss=1.4839613437652588 Batch_id=390 Accuracy=52.72: 100%|██████████| 391/391 [00:17<00:00, 22.39it/s]\n",
            "  0%|          | 0/391 [00:00<?, ?it/s]"
          ],
          "name": "stderr"
        },
        {
          "output_type": "stream",
          "text": [
            "\n",
            "Test set: Average loss: 0.0078, Accuracy: 32132/50000 (64.26%)\n",
            "\n",
            "Epoch 14:\n"
          ],
          "name": "stdout"
        },
        {
          "output_type": "stream",
          "text": [
            "Loss=1.2890068292617798 Batch_id=390 Accuracy=53.68: 100%|██████████| 391/391 [00:17<00:00, 22.24it/s]\n",
            "  0%|          | 0/391 [00:00<?, ?it/s]"
          ],
          "name": "stderr"
        },
        {
          "output_type": "stream",
          "text": [
            "\n",
            "Test set: Average loss: 0.0079, Accuracy: 32077/50000 (64.15%)\n",
            "\n",
            "Epoch 15:\n"
          ],
          "name": "stdout"
        },
        {
          "output_type": "stream",
          "text": [
            "Loss=1.6404564380645752 Batch_id=390 Accuracy=55.09: 100%|██████████| 391/391 [00:17<00:00, 22.23it/s]\n",
            "  0%|          | 0/391 [00:00<?, ?it/s]"
          ],
          "name": "stderr"
        },
        {
          "output_type": "stream",
          "text": [
            "\n",
            "Test set: Average loss: 0.0074, Accuracy: 33217/50000 (66.43%)\n",
            "\n",
            "Epoch 16:\n"
          ],
          "name": "stdout"
        },
        {
          "output_type": "stream",
          "text": [
            "Loss=1.059023141860962 Batch_id=390 Accuracy=55.83: 100%|██████████| 391/391 [00:17<00:00, 22.42it/s]\n",
            "  0%|          | 0/391 [00:00<?, ?it/s]"
          ],
          "name": "stderr"
        },
        {
          "output_type": "stream",
          "text": [
            "\n",
            "Test set: Average loss: 0.0072, Accuracy: 33665/50000 (67.33%)\n",
            "\n",
            "Epoch 17:\n"
          ],
          "name": "stdout"
        },
        {
          "output_type": "stream",
          "text": [
            "Loss=1.4795386791229248 Batch_id=390 Accuracy=57.24: 100%|██████████| 391/391 [00:17<00:00, 22.29it/s]\n",
            "  0%|          | 0/391 [00:00<?, ?it/s]"
          ],
          "name": "stderr"
        },
        {
          "output_type": "stream",
          "text": [
            "\n",
            "Test set: Average loss: 0.0069, Accuracy: 34446/50000 (68.89%)\n",
            "\n",
            "Epoch 18:\n"
          ],
          "name": "stdout"
        },
        {
          "output_type": "stream",
          "text": [
            "Loss=1.0923664569854736 Batch_id=390 Accuracy=57.46: 100%|██████████| 391/391 [00:17<00:00, 22.44it/s]\n",
            "  0%|          | 0/391 [00:00<?, ?it/s]"
          ],
          "name": "stderr"
        },
        {
          "output_type": "stream",
          "text": [
            "\n",
            "Test set: Average loss: 0.0067, Accuracy: 34944/50000 (69.89%)\n",
            "\n",
            "Epoch 19:\n"
          ],
          "name": "stdout"
        },
        {
          "output_type": "stream",
          "text": [
            "Loss=1.3170245885849 Batch_id=390 Accuracy=58.04: 100%|██████████| 391/391 [00:17<00:00, 22.37it/s]\n",
            "  0%|          | 0/391 [00:00<?, ?it/s]"
          ],
          "name": "stderr"
        },
        {
          "output_type": "stream",
          "text": [
            "\n",
            "Test set: Average loss: 0.0065, Accuracy: 35553/50000 (71.11%)\n",
            "\n",
            "Epoch 20:\n"
          ],
          "name": "stdout"
        },
        {
          "output_type": "stream",
          "text": [
            "Loss=1.1017773151397705 Batch_id=390 Accuracy=58.82: 100%|██████████| 391/391 [00:17<00:00, 22.22it/s]\n",
            "  0%|          | 0/391 [00:00<?, ?it/s]"
          ],
          "name": "stderr"
        },
        {
          "output_type": "stream",
          "text": [
            "\n",
            "Test set: Average loss: 0.0064, Accuracy: 35630/50000 (71.26%)\n",
            "\n",
            "Epoch 21:\n"
          ],
          "name": "stdout"
        },
        {
          "output_type": "stream",
          "text": [
            "Loss=1.3492408990859985 Batch_id=390 Accuracy=59.78: 100%|██████████| 391/391 [00:17<00:00, 22.42it/s]\n",
            "  0%|          | 0/391 [00:00<?, ?it/s]"
          ],
          "name": "stderr"
        },
        {
          "output_type": "stream",
          "text": [
            "\n",
            "Test set: Average loss: 0.0062, Accuracy: 36096/50000 (72.19%)\n",
            "\n",
            "Epoch 22:\n"
          ],
          "name": "stdout"
        },
        {
          "output_type": "stream",
          "text": [
            "Loss=0.9791437387466431 Batch_id=390 Accuracy=60.15: 100%|██████████| 391/391 [00:17<00:00, 22.20it/s]\n",
            "  0%|          | 0/391 [00:00<?, ?it/s]"
          ],
          "name": "stderr"
        },
        {
          "output_type": "stream",
          "text": [
            "\n",
            "Test set: Average loss: 0.0063, Accuracy: 35844/50000 (71.69%)\n",
            "\n",
            "Epoch 23:\n"
          ],
          "name": "stdout"
        },
        {
          "output_type": "stream",
          "text": [
            "Loss=1.0080915689468384 Batch_id=390 Accuracy=60.65: 100%|██████████| 391/391 [00:17<00:00, 22.17it/s]\n",
            "  0%|          | 0/391 [00:00<?, ?it/s]"
          ],
          "name": "stderr"
        },
        {
          "output_type": "stream",
          "text": [
            "\n",
            "Test set: Average loss: 0.0065, Accuracy: 35586/50000 (71.17%)\n",
            "\n",
            "Epoch 24:\n"
          ],
          "name": "stdout"
        },
        {
          "output_type": "stream",
          "text": [
            "Loss=0.9760915040969849 Batch_id=390 Accuracy=61.16: 100%|██████████| 391/391 [00:17<00:00, 22.38it/s]\n",
            "  0%|          | 0/391 [00:00<?, ?it/s]"
          ],
          "name": "stderr"
        },
        {
          "output_type": "stream",
          "text": [
            "\n",
            "Test set: Average loss: 0.0059, Accuracy: 36848/50000 (73.70%)\n",
            "\n",
            "Epoch 25:\n"
          ],
          "name": "stdout"
        },
        {
          "output_type": "stream",
          "text": [
            "Loss=1.1567538976669312 Batch_id=390 Accuracy=61.70: 100%|██████████| 391/391 [00:17<00:00, 22.25it/s]\n",
            "  0%|          | 0/391 [00:00<?, ?it/s]"
          ],
          "name": "stderr"
        },
        {
          "output_type": "stream",
          "text": [
            "\n",
            "Test set: Average loss: 0.0057, Accuracy: 37070/50000 (74.14%)\n",
            "\n",
            "Epoch 26:\n"
          ],
          "name": "stdout"
        },
        {
          "output_type": "stream",
          "text": [
            "Loss=0.9705133438110352 Batch_id=390 Accuracy=61.90: 100%|██████████| 391/391 [00:17<00:00, 22.12it/s]\n",
            "  0%|          | 0/391 [00:00<?, ?it/s]"
          ],
          "name": "stderr"
        },
        {
          "output_type": "stream",
          "text": [
            "\n",
            "Test set: Average loss: 0.0059, Accuracy: 36860/50000 (73.72%)\n",
            "\n",
            "Epoch 27:\n"
          ],
          "name": "stdout"
        },
        {
          "output_type": "stream",
          "text": [
            "Loss=1.2079782485961914 Batch_id=390 Accuracy=62.65: 100%|██████████| 391/391 [00:17<00:00, 22.13it/s]\n",
            "  0%|          | 0/391 [00:00<?, ?it/s]"
          ],
          "name": "stderr"
        },
        {
          "output_type": "stream",
          "text": [
            "\n",
            "Test set: Average loss: 0.0054, Accuracy: 37865/50000 (75.73%)\n",
            "\n",
            "Epoch 28:\n"
          ],
          "name": "stdout"
        },
        {
          "output_type": "stream",
          "text": [
            "Loss=1.0442085266113281 Batch_id=390 Accuracy=62.78: 100%|██████████| 391/391 [00:17<00:00, 22.26it/s]\n",
            "  0%|          | 0/391 [00:00<?, ?it/s]"
          ],
          "name": "stderr"
        },
        {
          "output_type": "stream",
          "text": [
            "\n",
            "Test set: Average loss: 0.0055, Accuracy: 37645/50000 (75.29%)\n",
            "\n",
            "Epoch 29:\n"
          ],
          "name": "stdout"
        },
        {
          "output_type": "stream",
          "text": [
            "Loss=0.9834434390068054 Batch_id=390 Accuracy=63.35: 100%|██████████| 391/391 [00:17<00:00, 22.15it/s]\n",
            "  0%|          | 0/391 [00:00<?, ?it/s]"
          ],
          "name": "stderr"
        },
        {
          "output_type": "stream",
          "text": [
            "\n",
            "Test set: Average loss: 0.0054, Accuracy: 37974/50000 (75.95%)\n",
            "\n",
            "Epoch 30:\n"
          ],
          "name": "stdout"
        },
        {
          "output_type": "stream",
          "text": [
            "Loss=0.9840173721313477 Batch_id=390 Accuracy=63.33: 100%|██████████| 391/391 [00:17<00:00, 22.28it/s]\n",
            "  0%|          | 0/391 [00:00<?, ?it/s]"
          ],
          "name": "stderr"
        },
        {
          "output_type": "stream",
          "text": [
            "\n",
            "Test set: Average loss: 0.0053, Accuracy: 38115/50000 (76.23%)\n",
            "\n",
            "Epoch 31:\n"
          ],
          "name": "stdout"
        },
        {
          "output_type": "stream",
          "text": [
            "Loss=1.1730425357818604 Batch_id=390 Accuracy=63.83: 100%|██████████| 391/391 [00:17<00:00, 22.29it/s]\n",
            "  0%|          | 0/391 [00:00<?, ?it/s]"
          ],
          "name": "stderr"
        },
        {
          "output_type": "stream",
          "text": [
            "\n",
            "Test set: Average loss: 0.0051, Accuracy: 38674/50000 (77.35%)\n",
            "\n",
            "Epoch 32:\n"
          ],
          "name": "stdout"
        },
        {
          "output_type": "stream",
          "text": [
            "Loss=0.7891185879707336 Batch_id=390 Accuracy=64.16: 100%|██████████| 391/391 [00:17<00:00, 22.36it/s]\n",
            "  0%|          | 0/391 [00:00<?, ?it/s]"
          ],
          "name": "stderr"
        },
        {
          "output_type": "stream",
          "text": [
            "\n",
            "Test set: Average loss: 0.0050, Accuracy: 39022/50000 (78.04%)\n",
            "\n",
            "Epoch 33:\n"
          ],
          "name": "stdout"
        },
        {
          "output_type": "stream",
          "text": [
            "Loss=1.1964703798294067 Batch_id=390 Accuracy=64.43: 100%|██████████| 391/391 [00:17<00:00, 22.20it/s]\n",
            "  0%|          | 0/391 [00:00<?, ?it/s]"
          ],
          "name": "stderr"
        },
        {
          "output_type": "stream",
          "text": [
            "\n",
            "Test set: Average loss: 0.0049, Accuracy: 39098/50000 (78.20%)\n",
            "\n",
            "Epoch 34:\n"
          ],
          "name": "stdout"
        },
        {
          "output_type": "stream",
          "text": [
            "Loss=1.1392024755477905 Batch_id=390 Accuracy=64.75: 100%|██████████| 391/391 [00:17<00:00, 21.99it/s]\n",
            "  0%|          | 0/391 [00:00<?, ?it/s]"
          ],
          "name": "stderr"
        },
        {
          "output_type": "stream",
          "text": [
            "\n",
            "Test set: Average loss: 0.0049, Accuracy: 38998/50000 (78.00%)\n",
            "\n",
            "Epoch 35:\n"
          ],
          "name": "stdout"
        },
        {
          "output_type": "stream",
          "text": [
            "Loss=1.0092333555221558 Batch_id=390 Accuracy=64.93: 100%|██████████| 391/391 [00:17<00:00, 21.91it/s]\n",
            "  0%|          | 0/391 [00:00<?, ?it/s]"
          ],
          "name": "stderr"
        },
        {
          "output_type": "stream",
          "text": [
            "\n",
            "Test set: Average loss: 0.0049, Accuracy: 39001/50000 (78.00%)\n",
            "\n",
            "Epoch 36:\n"
          ],
          "name": "stdout"
        },
        {
          "output_type": "stream",
          "text": [
            "Loss=1.1198986768722534 Batch_id=390 Accuracy=65.34: 100%|██████████| 391/391 [00:17<00:00, 22.09it/s]\n",
            "  0%|          | 0/391 [00:00<?, ?it/s]"
          ],
          "name": "stderr"
        },
        {
          "output_type": "stream",
          "text": [
            "\n",
            "Test set: Average loss: 0.0050, Accuracy: 38817/50000 (77.63%)\n",
            "\n",
            "Epoch 37:\n"
          ],
          "name": "stdout"
        },
        {
          "output_type": "stream",
          "text": [
            "Loss=0.9754344820976257 Batch_id=390 Accuracy=65.54: 100%|██████████| 391/391 [00:17<00:00, 22.19it/s]\n",
            "  0%|          | 0/391 [00:00<?, ?it/s]"
          ],
          "name": "stderr"
        },
        {
          "output_type": "stream",
          "text": [
            "\n",
            "Test set: Average loss: 0.0049, Accuracy: 39038/50000 (78.08%)\n",
            "\n",
            "Epoch 38:\n"
          ],
          "name": "stdout"
        },
        {
          "output_type": "stream",
          "text": [
            "Loss=0.9632765054702759 Batch_id=390 Accuracy=65.77: 100%|██████████| 391/391 [00:17<00:00, 22.09it/s]\n",
            "  0%|          | 0/391 [00:00<?, ?it/s]"
          ],
          "name": "stderr"
        },
        {
          "output_type": "stream",
          "text": [
            "\n",
            "Test set: Average loss: 0.0047, Accuracy: 39489/50000 (78.98%)\n",
            "\n",
            "Epoch 39:\n"
          ],
          "name": "stdout"
        },
        {
          "output_type": "stream",
          "text": [
            "Loss=0.7177891135215759 Batch_id=390 Accuracy=65.90: 100%|██████████| 391/391 [00:17<00:00, 22.23it/s]\n",
            "  0%|          | 0/391 [00:00<?, ?it/s]"
          ],
          "name": "stderr"
        },
        {
          "output_type": "stream",
          "text": [
            "\n",
            "Test set: Average loss: 0.0046, Accuracy: 39802/50000 (79.60%)\n",
            "\n",
            "Epoch 40:\n"
          ],
          "name": "stdout"
        },
        {
          "output_type": "stream",
          "text": [
            "Loss=0.7795181274414062 Batch_id=390 Accuracy=66.40: 100%|██████████| 391/391 [00:17<00:00, 22.37it/s]\n",
            "  0%|          | 0/391 [00:00<?, ?it/s]"
          ],
          "name": "stderr"
        },
        {
          "output_type": "stream",
          "text": [
            "\n",
            "Test set: Average loss: 0.0046, Accuracy: 39723/50000 (79.45%)\n",
            "\n",
            "Epoch 41:\n"
          ],
          "name": "stdout"
        },
        {
          "output_type": "stream",
          "text": [
            "Loss=0.9223669171333313 Batch_id=390 Accuracy=66.21: 100%|██████████| 391/391 [00:17<00:00, 22.30it/s]\n",
            "  0%|          | 0/391 [00:00<?, ?it/s]"
          ],
          "name": "stderr"
        },
        {
          "output_type": "stream",
          "text": [
            "\n",
            "Test set: Average loss: 0.0048, Accuracy: 39213/50000 (78.43%)\n",
            "\n",
            "Epoch 42:\n"
          ],
          "name": "stdout"
        },
        {
          "output_type": "stream",
          "text": [
            "Loss=0.7809053659439087 Batch_id=390 Accuracy=66.51: 100%|██████████| 391/391 [00:17<00:00, 22.04it/s]\n",
            "  0%|          | 0/391 [00:00<?, ?it/s]"
          ],
          "name": "stderr"
        },
        {
          "output_type": "stream",
          "text": [
            "\n",
            "Test set: Average loss: 0.0045, Accuracy: 39941/50000 (79.88%)\n",
            "\n",
            "Epoch 43:\n"
          ],
          "name": "stdout"
        },
        {
          "output_type": "stream",
          "text": [
            "Loss=1.1497477293014526 Batch_id=390 Accuracy=66.91: 100%|██████████| 391/391 [00:17<00:00, 21.93it/s]\n",
            "  0%|          | 0/391 [00:00<?, ?it/s]"
          ],
          "name": "stderr"
        },
        {
          "output_type": "stream",
          "text": [
            "\n",
            "Test set: Average loss: 0.0049, Accuracy: 39183/50000 (78.37%)\n",
            "\n",
            "Epoch 44:\n"
          ],
          "name": "stdout"
        },
        {
          "output_type": "stream",
          "text": [
            "Loss=1.0426815748214722 Batch_id=390 Accuracy=66.97: 100%|██████████| 391/391 [00:17<00:00, 21.96it/s]\n",
            "  0%|          | 0/391 [00:00<?, ?it/s]"
          ],
          "name": "stderr"
        },
        {
          "output_type": "stream",
          "text": [
            "\n",
            "Test set: Average loss: 0.0046, Accuracy: 39771/50000 (79.54%)\n",
            "\n",
            "Epoch 45:\n"
          ],
          "name": "stdout"
        },
        {
          "output_type": "stream",
          "text": [
            "Loss=0.9450299143791199 Batch_id=390 Accuracy=67.28: 100%|██████████| 391/391 [00:17<00:00, 21.73it/s]\n",
            "  0%|          | 0/391 [00:00<?, ?it/s]"
          ],
          "name": "stderr"
        },
        {
          "output_type": "stream",
          "text": [
            "\n",
            "Test set: Average loss: 0.0045, Accuracy: 40001/50000 (80.00%)\n",
            "\n",
            "Epoch 46:\n"
          ],
          "name": "stdout"
        },
        {
          "output_type": "stream",
          "text": [
            "Loss=0.8280283212661743 Batch_id=390 Accuracy=66.86: 100%|██████████| 391/391 [00:18<00:00, 21.58it/s]\n",
            "  0%|          | 0/391 [00:00<?, ?it/s]"
          ],
          "name": "stderr"
        },
        {
          "output_type": "stream",
          "text": [
            "\n",
            "Test set: Average loss: 0.0043, Accuracy: 40294/50000 (80.59%)\n",
            "\n",
            "Epoch 47:\n"
          ],
          "name": "stdout"
        },
        {
          "output_type": "stream",
          "text": [
            "Loss=0.9957391619682312 Batch_id=390 Accuracy=67.47: 100%|██████████| 391/391 [00:17<00:00, 22.02it/s]\n",
            "  0%|          | 0/391 [00:00<?, ?it/s]"
          ],
          "name": "stderr"
        },
        {
          "output_type": "stream",
          "text": [
            "\n",
            "Test set: Average loss: 0.0044, Accuracy: 40238/50000 (80.48%)\n",
            "\n",
            "Epoch 48:\n"
          ],
          "name": "stdout"
        },
        {
          "output_type": "stream",
          "text": [
            "Loss=0.8150027394294739 Batch_id=390 Accuracy=67.72: 100%|██████████| 391/391 [00:17<00:00, 21.91it/s]\n",
            "  0%|          | 0/391 [00:00<?, ?it/s]"
          ],
          "name": "stderr"
        },
        {
          "output_type": "stream",
          "text": [
            "\n",
            "Test set: Average loss: 0.0044, Accuracy: 40142/50000 (80.28%)\n",
            "\n",
            "Epoch 49:\n"
          ],
          "name": "stdout"
        },
        {
          "output_type": "stream",
          "text": [
            "Loss=0.894008457660675 Batch_id=390 Accuracy=67.98: 100%|██████████| 391/391 [00:17<00:00, 22.07it/s]\n",
            "  0%|          | 0/391 [00:00<?, ?it/s]"
          ],
          "name": "stderr"
        },
        {
          "output_type": "stream",
          "text": [
            "\n",
            "Test set: Average loss: 0.0046, Accuracy: 39937/50000 (79.87%)\n",
            "\n",
            "Epoch 50:\n"
          ],
          "name": "stdout"
        },
        {
          "output_type": "stream",
          "text": [
            "Loss=1.0739448070526123 Batch_id=390 Accuracy=67.79: 100%|██████████| 391/391 [00:18<00:00, 21.70it/s]\n",
            "  0%|          | 0/391 [00:00<?, ?it/s]"
          ],
          "name": "stderr"
        },
        {
          "output_type": "stream",
          "text": [
            "\n",
            "Test set: Average loss: 0.0042, Accuracy: 40561/50000 (81.12%)\n",
            "\n",
            "Epoch 51:\n"
          ],
          "name": "stdout"
        },
        {
          "output_type": "stream",
          "text": [
            "Loss=0.8745124936103821 Batch_id=390 Accuracy=67.79: 100%|██████████| 391/391 [00:17<00:00, 21.89it/s]\n",
            "  0%|          | 0/391 [00:00<?, ?it/s]"
          ],
          "name": "stderr"
        },
        {
          "output_type": "stream",
          "text": [
            "\n",
            "Test set: Average loss: 0.0042, Accuracy: 40633/50000 (81.27%)\n",
            "\n",
            "Epoch 52:\n"
          ],
          "name": "stdout"
        },
        {
          "output_type": "stream",
          "text": [
            "Loss=0.7963235974311829 Batch_id=390 Accuracy=68.17: 100%|██████████| 391/391 [00:17<00:00, 22.06it/s]\n",
            "  0%|          | 0/391 [00:00<?, ?it/s]"
          ],
          "name": "stderr"
        },
        {
          "output_type": "stream",
          "text": [
            "\n",
            "Test set: Average loss: 0.0041, Accuracy: 40797/50000 (81.59%)\n",
            "\n",
            "Epoch 53:\n"
          ],
          "name": "stdout"
        },
        {
          "output_type": "stream",
          "text": [
            "Loss=0.9555035829544067 Batch_id=390 Accuracy=68.42: 100%|██████████| 391/391 [00:17<00:00, 21.94it/s]\n",
            "  0%|          | 0/391 [00:00<?, ?it/s]"
          ],
          "name": "stderr"
        },
        {
          "output_type": "stream",
          "text": [
            "\n",
            "Test set: Average loss: 0.0041, Accuracy: 40992/50000 (81.98%)\n",
            "\n",
            "Epoch 54:\n"
          ],
          "name": "stdout"
        },
        {
          "output_type": "stream",
          "text": [
            "Loss=0.8131133317947388 Batch_id=390 Accuracy=68.81: 100%|██████████| 391/391 [00:17<00:00, 22.26it/s]\n",
            "  0%|          | 0/391 [00:00<?, ?it/s]"
          ],
          "name": "stderr"
        },
        {
          "output_type": "stream",
          "text": [
            "\n",
            "Test set: Average loss: 0.0040, Accuracy: 41118/50000 (82.24%)\n",
            "\n",
            "Epoch 55:\n"
          ],
          "name": "stdout"
        },
        {
          "output_type": "stream",
          "text": [
            "Loss=0.9945741891860962 Batch_id=390 Accuracy=68.32: 100%|██████████| 391/391 [00:17<00:00, 21.97it/s]\n",
            "  0%|          | 0/391 [00:00<?, ?it/s]"
          ],
          "name": "stderr"
        },
        {
          "output_type": "stream",
          "text": [
            "\n",
            "Test set: Average loss: 0.0041, Accuracy: 40727/50000 (81.45%)\n",
            "\n",
            "Epoch 56:\n"
          ],
          "name": "stdout"
        },
        {
          "output_type": "stream",
          "text": [
            "Loss=0.8455823063850403 Batch_id=390 Accuracy=68.40: 100%|██████████| 391/391 [00:17<00:00, 22.08it/s]\n",
            "  0%|          | 0/391 [00:00<?, ?it/s]"
          ],
          "name": "stderr"
        },
        {
          "output_type": "stream",
          "text": [
            "\n",
            "Test set: Average loss: 0.0040, Accuracy: 41072/50000 (82.14%)\n",
            "\n",
            "Epoch 57:\n"
          ],
          "name": "stdout"
        },
        {
          "output_type": "stream",
          "text": [
            "Loss=1.2414133548736572 Batch_id=390 Accuracy=69.07: 100%|██████████| 391/391 [00:17<00:00, 21.99it/s]\n",
            "  0%|          | 0/391 [00:00<?, ?it/s]"
          ],
          "name": "stderr"
        },
        {
          "output_type": "stream",
          "text": [
            "\n",
            "Test set: Average loss: 0.0039, Accuracy: 41258/50000 (82.52%)\n",
            "\n",
            "Epoch 58:\n"
          ],
          "name": "stdout"
        },
        {
          "output_type": "stream",
          "text": [
            "Loss=0.9473384618759155 Batch_id=390 Accuracy=69.03: 100%|██████████| 391/391 [00:17<00:00, 22.16it/s]\n",
            "  0%|          | 0/391 [00:00<?, ?it/s]"
          ],
          "name": "stderr"
        },
        {
          "output_type": "stream",
          "text": [
            "\n",
            "Test set: Average loss: 0.0040, Accuracy: 41136/50000 (82.27%)\n",
            "\n",
            "Epoch 59:\n"
          ],
          "name": "stdout"
        },
        {
          "output_type": "stream",
          "text": [
            "Loss=0.9081486463546753 Batch_id=390 Accuracy=68.86: 100%|██████████| 391/391 [00:17<00:00, 22.17it/s]\n",
            "  0%|          | 0/391 [00:00<?, ?it/s]"
          ],
          "name": "stderr"
        },
        {
          "output_type": "stream",
          "text": [
            "\n",
            "Test set: Average loss: 0.0040, Accuracy: 40952/50000 (81.90%)\n",
            "\n",
            "Epoch 60:\n"
          ],
          "name": "stdout"
        },
        {
          "output_type": "stream",
          "text": [
            "Loss=0.9347614049911499 Batch_id=390 Accuracy=69.33: 100%|██████████| 391/391 [00:17<00:00, 21.95it/s]\n",
            "  0%|          | 0/391 [00:00<?, ?it/s]"
          ],
          "name": "stderr"
        },
        {
          "output_type": "stream",
          "text": [
            "\n",
            "Test set: Average loss: 0.0040, Accuracy: 41124/50000 (82.25%)\n",
            "\n",
            "Epoch 61:\n"
          ],
          "name": "stdout"
        },
        {
          "output_type": "stream",
          "text": [
            "Loss=0.5835496783256531 Batch_id=390 Accuracy=69.32: 100%|██████████| 391/391 [00:17<00:00, 21.97it/s]\n",
            "  0%|          | 0/391 [00:00<?, ?it/s]"
          ],
          "name": "stderr"
        },
        {
          "output_type": "stream",
          "text": [
            "\n",
            "Test set: Average loss: 0.0038, Accuracy: 41504/50000 (83.01%)\n",
            "\n",
            "Epoch 62:\n"
          ],
          "name": "stdout"
        },
        {
          "output_type": "stream",
          "text": [
            "Loss=0.8161181211471558 Batch_id=390 Accuracy=69.42: 100%|██████████| 391/391 [00:17<00:00, 21.92it/s]\n",
            "  0%|          | 0/391 [00:00<?, ?it/s]"
          ],
          "name": "stderr"
        },
        {
          "output_type": "stream",
          "text": [
            "\n",
            "Test set: Average loss: 0.0041, Accuracy: 40810/50000 (81.62%)\n",
            "\n",
            "Epoch 63:\n"
          ],
          "name": "stdout"
        },
        {
          "output_type": "stream",
          "text": [
            "Loss=0.9781140089035034 Batch_id=390 Accuracy=69.64: 100%|██████████| 391/391 [00:17<00:00, 22.14it/s]\n",
            "  0%|          | 0/391 [00:00<?, ?it/s]"
          ],
          "name": "stderr"
        },
        {
          "output_type": "stream",
          "text": [
            "\n",
            "Test set: Average loss: 0.0038, Accuracy: 41615/50000 (83.23%)\n",
            "\n",
            "Epoch 64:\n"
          ],
          "name": "stdout"
        },
        {
          "output_type": "stream",
          "text": [
            "Loss=0.9231823086738586 Batch_id=390 Accuracy=69.50: 100%|██████████| 391/391 [00:17<00:00, 22.03it/s]\n",
            "  0%|          | 0/391 [00:00<?, ?it/s]"
          ],
          "name": "stderr"
        },
        {
          "output_type": "stream",
          "text": [
            "\n",
            "Test set: Average loss: 0.0038, Accuracy: 41478/50000 (82.96%)\n",
            "\n",
            "Epoch 65:\n"
          ],
          "name": "stdout"
        },
        {
          "output_type": "stream",
          "text": [
            "Loss=0.8351003527641296 Batch_id=390 Accuracy=69.93: 100%|██████████| 391/391 [00:17<00:00, 22.02it/s]\n",
            "  0%|          | 0/391 [00:00<?, ?it/s]"
          ],
          "name": "stderr"
        },
        {
          "output_type": "stream",
          "text": [
            "\n",
            "Test set: Average loss: 0.0038, Accuracy: 41588/50000 (83.18%)\n",
            "\n",
            "Epoch 66:\n"
          ],
          "name": "stdout"
        },
        {
          "output_type": "stream",
          "text": [
            "Loss=0.850237250328064 Batch_id=390 Accuracy=70.04: 100%|██████████| 391/391 [00:17<00:00, 22.20it/s]\n",
            "  0%|          | 0/391 [00:00<?, ?it/s]"
          ],
          "name": "stderr"
        },
        {
          "output_type": "stream",
          "text": [
            "\n",
            "Test set: Average loss: 0.0037, Accuracy: 41741/50000 (83.48%)\n",
            "\n",
            "Epoch 67:\n"
          ],
          "name": "stdout"
        },
        {
          "output_type": "stream",
          "text": [
            "Loss=1.0561009645462036 Batch_id=390 Accuracy=69.85: 100%|██████████| 391/391 [00:17<00:00, 21.95it/s]\n",
            "  0%|          | 0/391 [00:00<?, ?it/s]"
          ],
          "name": "stderr"
        },
        {
          "output_type": "stream",
          "text": [
            "\n",
            "Test set: Average loss: 0.0038, Accuracy: 41560/50000 (83.12%)\n",
            "\n",
            "Epoch 68:\n"
          ],
          "name": "stdout"
        },
        {
          "output_type": "stream",
          "text": [
            "Loss=1.046966552734375 Batch_id=390 Accuracy=70.08: 100%|██████████| 391/391 [00:17<00:00, 21.90it/s]\n",
            "  0%|          | 0/391 [00:00<?, ?it/s]"
          ],
          "name": "stderr"
        },
        {
          "output_type": "stream",
          "text": [
            "\n",
            "Test set: Average loss: 0.0039, Accuracy: 41522/50000 (83.04%)\n",
            "\n",
            "Epoch 69:\n"
          ],
          "name": "stdout"
        },
        {
          "output_type": "stream",
          "text": [
            "Loss=0.8471576571464539 Batch_id=390 Accuracy=70.15: 100%|██████████| 391/391 [00:17<00:00, 22.02it/s]\n",
            "  0%|          | 0/391 [00:00<?, ?it/s]"
          ],
          "name": "stderr"
        },
        {
          "output_type": "stream",
          "text": [
            "\n",
            "Test set: Average loss: 0.0036, Accuracy: 41880/50000 (83.76%)\n",
            "\n",
            "Epoch 70:\n"
          ],
          "name": "stdout"
        },
        {
          "output_type": "stream",
          "text": [
            "Loss=1.040350317955017 Batch_id=390 Accuracy=70.41: 100%|██████████| 391/391 [00:17<00:00, 22.08it/s]\n",
            "  0%|          | 0/391 [00:00<?, ?it/s]"
          ],
          "name": "stderr"
        },
        {
          "output_type": "stream",
          "text": [
            "\n",
            "Test set: Average loss: 0.0036, Accuracy: 42134/50000 (84.27%)\n",
            "\n",
            "Epoch 71:\n"
          ],
          "name": "stdout"
        },
        {
          "output_type": "stream",
          "text": [
            "Loss=1.024516224861145 Batch_id=390 Accuracy=70.39: 100%|██████████| 391/391 [00:17<00:00, 21.85it/s]\n",
            "  0%|          | 0/391 [00:00<?, ?it/s]"
          ],
          "name": "stderr"
        },
        {
          "output_type": "stream",
          "text": [
            "\n",
            "Test set: Average loss: 0.0036, Accuracy: 41971/50000 (83.94%)\n",
            "\n",
            "Epoch 72:\n"
          ],
          "name": "stdout"
        },
        {
          "output_type": "stream",
          "text": [
            "Loss=0.7873712778091431 Batch_id=390 Accuracy=70.36: 100%|██████████| 391/391 [00:17<00:00, 22.09it/s]\n",
            "  0%|          | 0/391 [00:00<?, ?it/s]"
          ],
          "name": "stderr"
        },
        {
          "output_type": "stream",
          "text": [
            "\n",
            "Test set: Average loss: 0.0035, Accuracy: 42154/50000 (84.31%)\n",
            "\n",
            "Epoch 73:\n"
          ],
          "name": "stdout"
        },
        {
          "output_type": "stream",
          "text": [
            "Loss=0.8708738088607788 Batch_id=390 Accuracy=70.78: 100%|██████████| 391/391 [00:17<00:00, 22.05it/s]\n",
            "  0%|          | 0/391 [00:00<?, ?it/s]"
          ],
          "name": "stderr"
        },
        {
          "output_type": "stream",
          "text": [
            "\n",
            "Test set: Average loss: 0.0036, Accuracy: 42081/50000 (84.16%)\n",
            "\n",
            "Epoch 74:\n"
          ],
          "name": "stdout"
        },
        {
          "output_type": "stream",
          "text": [
            "Loss=0.8979953527450562 Batch_id=390 Accuracy=70.83: 100%|██████████| 391/391 [00:17<00:00, 22.04it/s]\n",
            "  0%|          | 0/391 [00:00<?, ?it/s]"
          ],
          "name": "stderr"
        },
        {
          "output_type": "stream",
          "text": [
            "\n",
            "Test set: Average loss: 0.0036, Accuracy: 42077/50000 (84.15%)\n",
            "\n",
            "Epoch 75:\n"
          ],
          "name": "stdout"
        },
        {
          "output_type": "stream",
          "text": [
            "Loss=0.7286011576652527 Batch_id=390 Accuracy=71.07: 100%|██████████| 391/391 [00:17<00:00, 22.02it/s]\n",
            "  0%|          | 0/391 [00:00<?, ?it/s]"
          ],
          "name": "stderr"
        },
        {
          "output_type": "stream",
          "text": [
            "\n",
            "Test set: Average loss: 0.0035, Accuracy: 42142/50000 (84.28%)\n",
            "\n",
            "Epoch 76:\n"
          ],
          "name": "stdout"
        },
        {
          "output_type": "stream",
          "text": [
            "Loss=1.031103253364563 Batch_id=390 Accuracy=70.92: 100%|██████████| 391/391 [00:17<00:00, 22.03it/s]\n",
            "  0%|          | 0/391 [00:00<?, ?it/s]"
          ],
          "name": "stderr"
        },
        {
          "output_type": "stream",
          "text": [
            "\n",
            "Test set: Average loss: 0.0035, Accuracy: 42285/50000 (84.57%)\n",
            "\n",
            "Epoch 77:\n"
          ],
          "name": "stdout"
        },
        {
          "output_type": "stream",
          "text": [
            "Loss=0.8240993618965149 Batch_id=390 Accuracy=71.57: 100%|██████████| 391/391 [00:17<00:00, 21.99it/s]\n",
            "  0%|          | 0/391 [00:00<?, ?it/s]"
          ],
          "name": "stderr"
        },
        {
          "output_type": "stream",
          "text": [
            "\n",
            "Test set: Average loss: 0.0034, Accuracy: 42374/50000 (84.75%)\n",
            "\n",
            "Epoch 78:\n"
          ],
          "name": "stdout"
        },
        {
          "output_type": "stream",
          "text": [
            "Loss=0.8109030723571777 Batch_id=390 Accuracy=71.29: 100%|██████████| 391/391 [00:17<00:00, 22.03it/s]\n",
            "  0%|          | 0/391 [00:00<?, ?it/s]"
          ],
          "name": "stderr"
        },
        {
          "output_type": "stream",
          "text": [
            "\n",
            "Test set: Average loss: 0.0034, Accuracy: 42315/50000 (84.63%)\n",
            "\n",
            "Epoch 79:\n"
          ],
          "name": "stdout"
        },
        {
          "output_type": "stream",
          "text": [
            "Loss=0.7249111533164978 Batch_id=390 Accuracy=71.29: 100%|██████████| 391/391 [00:17<00:00, 22.07it/s]\n",
            "  0%|          | 0/391 [00:00<?, ?it/s]"
          ],
          "name": "stderr"
        },
        {
          "output_type": "stream",
          "text": [
            "\n",
            "Test set: Average loss: 0.0034, Accuracy: 42514/50000 (85.03%)\n",
            "\n",
            "Epoch 80:\n"
          ],
          "name": "stdout"
        },
        {
          "output_type": "stream",
          "text": [
            "Loss=0.6884493231773376 Batch_id=390 Accuracy=71.50: 100%|██████████| 391/391 [00:17<00:00, 21.95it/s]\n",
            "  0%|          | 0/391 [00:00<?, ?it/s]"
          ],
          "name": "stderr"
        },
        {
          "output_type": "stream",
          "text": [
            "\n",
            "Test set: Average loss: 0.0034, Accuracy: 42427/50000 (84.85%)\n",
            "\n",
            "Epoch 81:\n"
          ],
          "name": "stdout"
        },
        {
          "output_type": "stream",
          "text": [
            "Loss=0.7078036665916443 Batch_id=390 Accuracy=71.81: 100%|██████████| 391/391 [00:17<00:00, 21.79it/s]\n",
            "  0%|          | 0/391 [00:00<?, ?it/s]"
          ],
          "name": "stderr"
        },
        {
          "output_type": "stream",
          "text": [
            "\n",
            "Test set: Average loss: 0.0033, Accuracy: 42651/50000 (85.30%)\n",
            "\n",
            "Epoch 82:\n"
          ],
          "name": "stdout"
        },
        {
          "output_type": "stream",
          "text": [
            "Loss=0.7096431851387024 Batch_id=390 Accuracy=72.01: 100%|██████████| 391/391 [00:17<00:00, 21.97it/s]\n",
            "  0%|          | 0/391 [00:00<?, ?it/s]"
          ],
          "name": "stderr"
        },
        {
          "output_type": "stream",
          "text": [
            "\n",
            "Test set: Average loss: 0.0033, Accuracy: 42550/50000 (85.10%)\n",
            "\n",
            "Epoch 83:\n"
          ],
          "name": "stdout"
        },
        {
          "output_type": "stream",
          "text": [
            "Loss=0.8729936480522156 Batch_id=390 Accuracy=71.99: 100%|██████████| 391/391 [00:17<00:00, 21.84it/s]\n",
            "  0%|          | 0/391 [00:00<?, ?it/s]"
          ],
          "name": "stderr"
        },
        {
          "output_type": "stream",
          "text": [
            "\n",
            "Test set: Average loss: 0.0032, Accuracy: 42822/50000 (85.64%)\n",
            "\n",
            "Epoch 84:\n"
          ],
          "name": "stdout"
        },
        {
          "output_type": "stream",
          "text": [
            "Loss=0.7906198501586914 Batch_id=390 Accuracy=71.91: 100%|██████████| 391/391 [00:17<00:00, 21.76it/s]\n",
            "  0%|          | 0/391 [00:00<?, ?it/s]"
          ],
          "name": "stderr"
        },
        {
          "output_type": "stream",
          "text": [
            "\n",
            "Test set: Average loss: 0.0032, Accuracy: 42834/50000 (85.67%)\n",
            "\n",
            "Epoch 85:\n"
          ],
          "name": "stdout"
        },
        {
          "output_type": "stream",
          "text": [
            "Loss=0.9358248710632324 Batch_id=390 Accuracy=72.31: 100%|██████████| 391/391 [00:17<00:00, 21.85it/s]\n",
            "  0%|          | 0/391 [00:00<?, ?it/s]"
          ],
          "name": "stderr"
        },
        {
          "output_type": "stream",
          "text": [
            "\n",
            "Test set: Average loss: 0.0032, Accuracy: 42883/50000 (85.77%)\n",
            "\n",
            "Epoch 86:\n"
          ],
          "name": "stdout"
        },
        {
          "output_type": "stream",
          "text": [
            "Loss=0.6353787779808044 Batch_id=390 Accuracy=72.49: 100%|██████████| 391/391 [00:17<00:00, 21.75it/s]\n",
            "  0%|          | 0/391 [00:00<?, ?it/s]"
          ],
          "name": "stderr"
        },
        {
          "output_type": "stream",
          "text": [
            "\n",
            "Test set: Average loss: 0.0032, Accuracy: 42945/50000 (85.89%)\n",
            "\n",
            "Epoch 87:\n"
          ],
          "name": "stdout"
        },
        {
          "output_type": "stream",
          "text": [
            "Loss=0.8780378103256226 Batch_id=390 Accuracy=72.29: 100%|██████████| 391/391 [00:17<00:00, 21.78it/s]\n",
            "  0%|          | 0/391 [00:00<?, ?it/s]"
          ],
          "name": "stderr"
        },
        {
          "output_type": "stream",
          "text": [
            "\n",
            "Test set: Average loss: 0.0032, Accuracy: 42976/50000 (85.95%)\n",
            "\n",
            "Epoch 88:\n"
          ],
          "name": "stdout"
        },
        {
          "output_type": "stream",
          "text": [
            "Loss=0.7610396146774292 Batch_id=390 Accuracy=72.44: 100%|██████████| 391/391 [00:17<00:00, 22.08it/s]\n",
            "  0%|          | 0/391 [00:00<?, ?it/s]"
          ],
          "name": "stderr"
        },
        {
          "output_type": "stream",
          "text": [
            "\n",
            "Test set: Average loss: 0.0032, Accuracy: 42932/50000 (85.86%)\n",
            "\n",
            "Epoch 89:\n"
          ],
          "name": "stdout"
        },
        {
          "output_type": "stream",
          "text": [
            "Loss=0.4634220004081726 Batch_id=390 Accuracy=73.00: 100%|██████████| 391/391 [00:17<00:00, 21.81it/s]\n",
            "  0%|          | 0/391 [00:00<?, ?it/s]"
          ],
          "name": "stderr"
        },
        {
          "output_type": "stream",
          "text": [
            "\n",
            "Test set: Average loss: 0.0032, Accuracy: 42933/50000 (85.87%)\n",
            "\n",
            "Epoch 90:\n"
          ],
          "name": "stdout"
        },
        {
          "output_type": "stream",
          "text": [
            "Loss=0.6722603440284729 Batch_id=390 Accuracy=72.64: 100%|██████████| 391/391 [00:18<00:00, 21.67it/s]\n",
            "  0%|          | 0/391 [00:00<?, ?it/s]"
          ],
          "name": "stderr"
        },
        {
          "output_type": "stream",
          "text": [
            "\n",
            "Test set: Average loss: 0.0031, Accuracy: 43062/50000 (86.12%)\n",
            "\n",
            "Epoch 91:\n"
          ],
          "name": "stdout"
        },
        {
          "output_type": "stream",
          "text": [
            "Loss=0.7639256119728088 Batch_id=390 Accuracy=72.59: 100%|██████████| 391/391 [00:17<00:00, 21.90it/s]\n",
            "  0%|          | 0/391 [00:00<?, ?it/s]"
          ],
          "name": "stderr"
        },
        {
          "output_type": "stream",
          "text": [
            "\n",
            "Test set: Average loss: 0.0031, Accuracy: 43171/50000 (86.34%)\n",
            "\n",
            "Epoch 92:\n"
          ],
          "name": "stdout"
        },
        {
          "output_type": "stream",
          "text": [
            "Loss=0.8572056889533997 Batch_id=390 Accuracy=72.64: 100%|██████████| 391/391 [00:17<00:00, 21.74it/s]\n",
            "  0%|          | 0/391 [00:00<?, ?it/s]"
          ],
          "name": "stderr"
        },
        {
          "output_type": "stream",
          "text": [
            "\n",
            "Test set: Average loss: 0.0031, Accuracy: 43189/50000 (86.38%)\n",
            "\n",
            "Epoch 93:\n"
          ],
          "name": "stdout"
        },
        {
          "output_type": "stream",
          "text": [
            "Loss=0.909683108329773 Batch_id=390 Accuracy=72.97: 100%|██████████| 391/391 [00:17<00:00, 21.75it/s]\n",
            "  0%|          | 0/391 [00:00<?, ?it/s]"
          ],
          "name": "stderr"
        },
        {
          "output_type": "stream",
          "text": [
            "\n",
            "Test set: Average loss: 0.0031, Accuracy: 43112/50000 (86.22%)\n",
            "\n",
            "Epoch 94:\n"
          ],
          "name": "stdout"
        },
        {
          "output_type": "stream",
          "text": [
            "Loss=0.612693190574646 Batch_id=390 Accuracy=72.93: 100%|██████████| 391/391 [00:18<00:00, 21.60it/s]\n",
            "  0%|          | 0/391 [00:00<?, ?it/s]"
          ],
          "name": "stderr"
        },
        {
          "output_type": "stream",
          "text": [
            "\n",
            "Test set: Average loss: 0.0031, Accuracy: 43102/50000 (86.20%)\n",
            "\n",
            "Epoch 95:\n"
          ],
          "name": "stdout"
        },
        {
          "output_type": "stream",
          "text": [
            "Loss=0.7028664946556091 Batch_id=390 Accuracy=73.09: 100%|██████████| 391/391 [00:17<00:00, 21.74it/s]\n",
            "  0%|          | 0/391 [00:00<?, ?it/s]"
          ],
          "name": "stderr"
        },
        {
          "output_type": "stream",
          "text": [
            "\n",
            "Test set: Average loss: 0.0031, Accuracy: 43242/50000 (86.48%)\n",
            "\n",
            "Epoch 96:\n"
          ],
          "name": "stdout"
        },
        {
          "output_type": "stream",
          "text": [
            "Loss=0.7425206899642944 Batch_id=390 Accuracy=73.32: 100%|██████████| 391/391 [00:18<00:00, 21.63it/s]\n",
            "  0%|          | 0/391 [00:00<?, ?it/s]"
          ],
          "name": "stderr"
        },
        {
          "output_type": "stream",
          "text": [
            "\n",
            "Test set: Average loss: 0.0031, Accuracy: 43213/50000 (86.43%)\n",
            "\n",
            "Epoch 97:\n"
          ],
          "name": "stdout"
        },
        {
          "output_type": "stream",
          "text": [
            "Loss=0.6529470682144165 Batch_id=390 Accuracy=73.11: 100%|██████████| 391/391 [00:17<00:00, 21.86it/s]\n",
            "  0%|          | 0/391 [00:00<?, ?it/s]"
          ],
          "name": "stderr"
        },
        {
          "output_type": "stream",
          "text": [
            "\n",
            "Test set: Average loss: 0.0030, Accuracy: 43245/50000 (86.49%)\n",
            "\n",
            "Epoch 98:\n"
          ],
          "name": "stdout"
        },
        {
          "output_type": "stream",
          "text": [
            "Loss=0.7432495951652527 Batch_id=390 Accuracy=73.10: 100%|██████████| 391/391 [00:17<00:00, 21.81it/s]\n",
            "  0%|          | 0/391 [00:00<?, ?it/s]"
          ],
          "name": "stderr"
        },
        {
          "output_type": "stream",
          "text": [
            "\n",
            "Test set: Average loss: 0.0030, Accuracy: 43251/50000 (86.50%)\n",
            "\n",
            "Epoch 99:\n"
          ],
          "name": "stdout"
        },
        {
          "output_type": "stream",
          "text": [
            "Loss=0.8648862838745117 Batch_id=390 Accuracy=73.42: 100%|██████████| 391/391 [00:17<00:00, 21.90it/s]\n",
            "  0%|          | 0/391 [00:00<?, ?it/s]"
          ],
          "name": "stderr"
        },
        {
          "output_type": "stream",
          "text": [
            "\n",
            "Test set: Average loss: 0.0030, Accuracy: 43244/50000 (86.49%)\n",
            "\n",
            "Epoch 100:\n"
          ],
          "name": "stdout"
        },
        {
          "output_type": "stream",
          "text": [
            "Loss=0.5874542593955994 Batch_id=390 Accuracy=73.23: 100%|██████████| 391/391 [00:18<00:00, 21.62it/s]\n"
          ],
          "name": "stderr"
        },
        {
          "output_type": "stream",
          "text": [
            "\n",
            "Test set: Average loss: 0.0030, Accuracy: 43208/50000 (86.42%)\n",
            "\n"
          ],
          "name": "stdout"
        }
      ]
    },
    {
      "cell_type": "markdown",
      "metadata": {
        "id": "pYBgQj4Iiacq"
      },
      "source": [
        "### **Train, Validation Loss and Accuracy Plots**"
      ]
    },
    {
      "cell_type": "code",
      "metadata": {
        "colab": {
          "base_uri": "https://localhost:8080/",
          "height": 644
        },
        "id": "9OIPpqUOSc8n",
        "outputId": "242c9386-998e-456c-c40c-e763bde9e40d"
      },
      "source": [
        "import seaborn as sns\n",
        "\n",
        "sns.set(style='whitegrid')\n",
        "sns.set(font_scale=1.5)\n",
        "plt.rcParams[\"figure.figsize\"] = (20,10)\n",
        "\n",
        "# Plot the learning curve.\n",
        "fig, (plt1,plt2) = plt.subplots(1,2)\n",
        "plt1.plot(np.array([x/1000 for x in train_losses ]), 'r', label=\"Training Loss\")\n",
        "plt1.plot(np.array(test_losses), 'b', label=\"Validation Loss\")\n",
        "plt2.plot(np.array(train_accuracy), 'r', label=\"Training Accuracy\")\n",
        "plt2.plot(np.array(test_accuracy), 'b', label=\"Validation Accuracy\")\n",
        "\n",
        "plt2.set_title(\"Training-Validation Accuracy Curve\")\n",
        "plt2.set_xlabel(\"Epoch\")\n",
        "plt2.set_ylabel(\"Accuracy\")\n",
        "plt2.legend()\n",
        "plt1.set_title(\"Training-Validation Loss Curve\")\n",
        "plt1.set_xlabel(\"Epoch\")\n",
        "plt1.set_ylabel(\"Loss\")\n",
        "plt1.legend()\n",
        "\n",
        "plt.show()"
      ],
      "execution_count": 21,
      "outputs": [
        {
          "output_type": "display_data",
          "data": {
            "image/png": "[encoded data removed]",
            "text/plain": [
              "<Figure size 1440x720 with 2 Axes>"
            ]
          },
          "metadata": {
            "tags": []
          }
        }
      ]
    },
    {
      "cell_type": "markdown",
      "metadata": {
        "id": "51ooLT5Nio7m"
      },
      "source": [
        "### **Class Wise Performance**"
      ]
    },
    {
      "cell_type": "code",
      "metadata": {
        "colab": {
          "base_uri": "https://localhost:8080/"
        },
        "id": "728_O0-Oa5E9",
        "outputId": "47c357b0-904c-41d0-9e53-19e87ba8cdde"
      },
      "source": [
        "classes = ('plane', 'car', 'bird', 'cat',\n",
        "           'deer', 'dog', 'frog', 'horse', 'ship', 'truck')\n",
        "class_correct = list(0. for i in range(10))\n",
        "class_total = list(0. for i in range(10))\n",
        "with torch.no_grad():\n",
        "    for data in test_loader:\n",
        "        images, labels = data\n",
        "        images = images[\"image\"].to(device)\n",
        "        labels = labels.to(device)\n",
        "        outputs = model(images)\n",
        "        _, predicted = torch.max(outputs, 1)\n",
        "        c = (predicted == labels).squeeze()\n",
        "        for i in range(4):\n",
        "            label = labels[i]\n",
        "            class_correct[label] += c[i].item()\n",
        "            class_total[label] += 1\n",
        "\n",
        "\n",
        "for i in range(10):\n",
        "    print('Accuracy of %5s : %2d %%' % (\n",
        "        classes[i], 100 * class_correct[i] / class_total[i]))"
      ],
      "execution_count": 22,
      "outputs": [
        {
          "output_type": "stream",
          "text": [
            "Accuracy of plane : 87 %\n",
            "Accuracy of   car : 93 %\n",
            "Accuracy of  bird : 80 %\n",
            "Accuracy of   cat : 68 %\n",
            "Accuracy of  deer : 85 %\n",
            "Accuracy of   dog : 76 %\n",
            "Accuracy of  frog : 87 %\n",
            "Accuracy of horse : 85 %\n",
            "Accuracy of  ship : 97 %\n",
            "Accuracy of truck : 94 %\n"
          ],
          "name": "stdout"
        }
      ]
    }
  ]
}