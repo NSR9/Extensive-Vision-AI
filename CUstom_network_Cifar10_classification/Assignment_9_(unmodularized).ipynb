{
  "nbformat": 4,
  "nbformat_minor": 0,
  "metadata": {
    "accelerator": "GPU",
    "colab": {
      "name": "Copy of Assignment 9 .ipynb",
      "provenance": [],
      "collapsed_sections": [],
      "include_colab_link": true
    },
    "kernelspec": {
      "display_name": "Python 3",
      "name": "python3"
    },
    "language_info": {
      "name": "python"
    }
  },
  "cells": [
    {
      "cell_type": "markdown",
      "metadata": {
        "id": "view-in-github",
        "colab_type": "text"
      },
      "source": [
        "<a href=\"https://colab.research.google.com/github/NSR9/Extensive-Vision-AI/blob/main/Assignment_9/Assignment_9_(unmodularized).ipynb\" target=\"_parent\"><img src=\"https://colab.research.google.com/assets/colab-badge.svg\" alt=\"Open In Colab\"/></a>"
      ]
    },
    {
      "cell_type": "code",
      "metadata": {
        "id": "ccHTmmCGRFWQ",
        "colab": {
          "base_uri": "https://localhost:8080/"
        },
        "outputId": "bc10c4e2-12f6-43c6-bd1e-d7125e315092"
      },
      "source": [
        "!pip install git+https://github.com/albumentations-team/albumentations.git"
      ],
      "execution_count": null,
      "outputs": [
        {
          "output_type": "stream",
          "text": [
            "Collecting git+https://github.com/albumentations-team/albumentations.git\n",
            "  Cloning https://github.com/albumentations-team/albumentations.git to /tmp/pip-req-build-z6or6bat\n",
            "  Running command git clone -q https://github.com/albumentations-team/albumentations.git /tmp/pip-req-build-z6or6bat\n",
            "Requirement already satisfied (use --upgrade to upgrade): albumentations==1.0.2 from git+https://github.com/albumentations-team/albumentations.git in /usr/local/lib/python3.7/dist-packages\n",
            "Requirement already satisfied: numpy>=1.11.1 in /usr/local/lib/python3.7/dist-packages (from albumentations==1.0.2) (1.19.5)\n",
            "Requirement already satisfied: scipy in /usr/local/lib/python3.7/dist-packages (from albumentations==1.0.2) (1.4.1)\n",
            "Requirement already satisfied: scikit-image>=0.16.1 in /usr/local/lib/python3.7/dist-packages (from albumentations==1.0.2) (0.16.2)\n",
            "Requirement already satisfied: PyYAML in /usr/local/lib/python3.7/dist-packages (from albumentations==1.0.2) (3.13)\n",
            "Requirement already satisfied: opencv-python>=4.1.1 in /usr/local/lib/python3.7/dist-packages (from albumentations==1.0.2) (4.1.2.30)\n",
            "Requirement already satisfied: imageio>=2.3.0 in /usr/local/lib/python3.7/dist-packages (from scikit-image>=0.16.1->albumentations==1.0.2) (2.4.1)\n",
            "Requirement already satisfied: networkx>=2.0 in /usr/local/lib/python3.7/dist-packages (from scikit-image>=0.16.1->albumentations==1.0.2) (2.5.1)\n",
            "Requirement already satisfied: PyWavelets>=0.4.0 in /usr/local/lib/python3.7/dist-packages (from scikit-image>=0.16.1->albumentations==1.0.2) (1.1.1)\n",
            "Requirement already satisfied: matplotlib!=3.0.0,>=2.0.0 in /usr/local/lib/python3.7/dist-packages (from scikit-image>=0.16.1->albumentations==1.0.2) (3.2.2)\n",
            "Requirement already satisfied: pillow>=4.3.0 in /usr/local/lib/python3.7/dist-packages (from scikit-image>=0.16.1->albumentations==1.0.2) (7.1.2)\n",
            "Requirement already satisfied: decorator<5,>=4.3 in /usr/local/lib/python3.7/dist-packages (from networkx>=2.0->scikit-image>=0.16.1->albumentations==1.0.2) (4.4.2)\n",
            "Requirement already satisfied: python-dateutil>=2.1 in /usr/local/lib/python3.7/dist-packages (from matplotlib!=3.0.0,>=2.0.0->scikit-image>=0.16.1->albumentations==1.0.2) (2.8.1)\n",
            "Requirement already satisfied: cycler>=0.10 in /usr/local/lib/python3.7/dist-packages (from matplotlib!=3.0.0,>=2.0.0->scikit-image>=0.16.1->albumentations==1.0.2) (0.10.0)\n",
            "Requirement already satisfied: pyparsing!=2.0.4,!=2.1.2,!=2.1.6,>=2.0.1 in /usr/local/lib/python3.7/dist-packages (from matplotlib!=3.0.0,>=2.0.0->scikit-image>=0.16.1->albumentations==1.0.2) (2.4.7)\n",
            "Requirement already satisfied: kiwisolver>=1.0.1 in /usr/local/lib/python3.7/dist-packages (from matplotlib!=3.0.0,>=2.0.0->scikit-image>=0.16.1->albumentations==1.0.2) (1.3.1)\n",
            "Requirement already satisfied: six>=1.5 in /usr/local/lib/python3.7/dist-packages (from python-dateutil>=2.1->matplotlib!=3.0.0,>=2.0.0->scikit-image>=0.16.1->albumentations==1.0.2) (1.15.0)\n",
            "Building wheels for collected packages: albumentations\n",
            "  Building wheel for albumentations (setup.py) ... \u001b[?25l\u001b[?25hdone\n",
            "  Created wheel for albumentations: filename=albumentations-1.0.2-cp37-none-any.whl size=98521 sha256=8ce0301418849f4933f91ba68db4bdc1ab59d160a5d6c2b6716dec40ffc69745\n",
            "  Stored in directory: /tmp/pip-ephem-wheel-cache-u8rlwbmu/wheels/e2/85/3e/2a40fac5cc1f43ced656603bb2fca1327b30ec7de1b1b66517\n",
            "Successfully built albumentations\n"
          ],
          "name": "stdout"
        }
      ]
    },
    {
      "cell_type": "code",
      "metadata": {
        "id": "Cg5xdYySRdWa"
      },
      "source": [
        "from __future__ import print_function\n",
        "import torch\n",
        "import torch.nn as nn\n",
        "import torch.optim as optim\n",
        "import torch.nn.functional as F\n",
        "from torch.utils.data import DataLoader\n",
        "from torchvision import datasets, transforms\n",
        "import torchvision\n",
        "\n",
        "# Let's visualize some of the images\n",
        "%matplotlib inline\n",
        "import cv2\n",
        "import numpy as np\n",
        "import albumentations as A\n",
        "import matplotlib.pyplot as plt\n",
        "from albumentations.pytorch import ToTensorV2\n",
        "import copy\n",
        "\n",
        "from tqdm import tqdm \n",
        "\n",
        "from torch.optim.lr_scheduler import StepLR,OneCycleLR"
      ],
      "execution_count": null,
      "outputs": []
    },
    {
      "cell_type": "code",
      "metadata": {
        "id": "NMax2JS4Re5W"
      },
      "source": [
        "class Transforms:\n",
        "    def __init__(self, transforms: A.Compose):\n",
        "        self.transforms = transforms\n",
        "\n",
        "    def __call__(self, img, *args, **kwargs):\n",
        "        return self.transforms(image=np.array(img))"
      ],
      "execution_count": null,
      "outputs": []
    },
    {
      "cell_type": "code",
      "metadata": {
        "id": "fzF5K_DLgTk-"
      },
      "source": [
        "class resnet(nn.Module): \n",
        "    def __init__(self):\n",
        "        super(resnet, self).__init__()\n",
        "\n",
        "        self.preplayer = nn.Sequential(\n",
        "            nn.Conv2d(in_channels=3, out_channels=64, kernel_size=(3, 3), padding=1, bias=False), \n",
        "            nn.BatchNorm2d(64),\n",
        "            nn.ReLU(),  \n",
        "        )\n",
        "\n",
        "        self.x1 = nn.Sequential(\n",
        "            nn.Conv2d(in_channels=64, out_channels=128, kernel_size=(3, 3), padding=1, bias=False), \n",
        "            nn.MaxPool2d(2, 2),\n",
        "            nn.BatchNorm2d(128),\n",
        "            nn.ReLU(),  \n",
        "        )\n",
        "\n",
        "        self.res1 = nn.Sequential(\n",
        "            nn.Conv2d(in_channels=128, out_channels=128, kernel_size=(3, 3), padding=1, bias=False), \n",
        "            nn.BatchNorm2d(128),\n",
        "            nn.ReLU(),\n",
        "            \n",
        "            nn.Conv2d(in_channels=128, out_channels=128, kernel_size=(3, 3), padding=1, bias=False), \n",
        "            nn.BatchNorm2d(128),\n",
        "            nn.ReLU(),\n",
        "        )\n",
        "\n",
        "        self.layer2 =  nn.Sequential(\n",
        "            nn.Conv2d(in_channels=128, out_channels=256, kernel_size=(3, 3), padding=1, bias=False), \n",
        "            nn.MaxPool2d(2, 2),\n",
        "            nn.BatchNorm2d(256),\n",
        "            nn.ReLU(),  \n",
        "        )\n",
        "\n",
        "        self.x3 = nn.Sequential(\n",
        "            nn.Conv2d(in_channels=256, out_channels=512, kernel_size=(3, 3), padding=1, bias=False), \n",
        "            nn.MaxPool2d(2, 2),\n",
        "            nn.BatchNorm2d(512),\n",
        "            nn.ReLU(),  \n",
        "        )\n",
        "\n",
        "        self.res3 = nn.Sequential(\n",
        "            nn.Conv2d(in_channels=512, out_channels=512, kernel_size=(3, 3), padding=1, bias=False), \n",
        "            nn.BatchNorm2d(512),\n",
        "            nn.ReLU(),\n",
        "            \n",
        "            nn.Conv2d(in_channels=512, out_channels=512, kernel_size=(3, 3), padding=1, bias=False), \n",
        "            nn.BatchNorm2d(512),\n",
        "            nn.ReLU(),\n",
        "        )\n",
        "\n",
        "        self.max4d = nn.MaxPool2d(4, 4)\n",
        "\n",
        "        self.fc = nn.Linear(in_features = 512, out_features = 10, bias=False)\n",
        "\n",
        "    def forward(self, x):\n",
        "\n",
        "        prep_layer = self.preplayer(x)\n",
        "\n",
        "        x1 = self.x1(prep_layer)\n",
        "        R1 = self.res1(x1)\n",
        "        layer1 = x1 + R1\n",
        "\n",
        "        layer2 = self.layer2(layer1)\n",
        "\n",
        "        x3 = self.x3(layer2)\n",
        "        R3 = self.res3(x3)\n",
        "        layer3 = x3 + R3\n",
        "\n",
        "        maxpool = self.max4d(layer3)\n",
        "\n",
        "        x = maxpool.view(maxpool.size(0),-1)\n",
        "        fc = self.fc(x)\n",
        "        softmax = F.log_softmax(fc.view(-1,10), dim=-1)\n",
        "        \n",
        "        return softmax"
      ],
      "execution_count": null,
      "outputs": []
    },
    {
      "cell_type": "code",
      "metadata": {
        "id": "rvOreWtIkawl",
        "colab": {
          "base_uri": "https://localhost:8080/"
        },
        "outputId": "591b14bc-19a4-415b-a42c-e8d2aa03bd28"
      },
      "source": [
        "!pip install torchsummary\n",
        "from torchsummary import summary\n",
        "use_cuda = torch.cuda.is_available()\n",
        "device = torch.device(\"cuda\" if use_cuda else \"cpu\")\n",
        "print(device)\n",
        "model = resnet().to(device)\n",
        "summary(model, input_size=(3, 32, 32))"
      ],
      "execution_count": null,
      "outputs": [
        {
          "output_type": "stream",
          "text": [
            "Requirement already satisfied: torchsummary in /usr/local/lib/python3.7/dist-packages (1.5.1)\n",
            "cuda\n",
            "----------------------------------------------------------------\n",
            "        Layer (type)               Output Shape         Param #\n",
            "================================================================\n",
            "            Conv2d-1           [-1, 64, 32, 32]           1,728\n",
            "       BatchNorm2d-2           [-1, 64, 32, 32]             128\n",
            "              ReLU-3           [-1, 64, 32, 32]               0\n",
            "            Conv2d-4          [-1, 128, 32, 32]          73,728\n",
            "         MaxPool2d-5          [-1, 128, 16, 16]               0\n",
            "       BatchNorm2d-6          [-1, 128, 16, 16]             256\n",
            "              ReLU-7          [-1, 128, 16, 16]               0\n",
            "            Conv2d-8          [-1, 128, 16, 16]         147,456\n",
            "       BatchNorm2d-9          [-1, 128, 16, 16]             256\n",
            "             ReLU-10          [-1, 128, 16, 16]               0\n",
            "           Conv2d-11          [-1, 128, 16, 16]         147,456\n",
            "      BatchNorm2d-12          [-1, 128, 16, 16]             256\n",
            "             ReLU-13          [-1, 128, 16, 16]               0\n",
            "           Conv2d-14          [-1, 256, 16, 16]         294,912\n",
            "        MaxPool2d-15            [-1, 256, 8, 8]               0\n",
            "      BatchNorm2d-16            [-1, 256, 8, 8]             512\n",
            "             ReLU-17            [-1, 256, 8, 8]               0\n",
            "           Conv2d-18            [-1, 512, 8, 8]       1,179,648\n",
            "        MaxPool2d-19            [-1, 512, 4, 4]               0\n",
            "      BatchNorm2d-20            [-1, 512, 4, 4]           1,024\n",
            "             ReLU-21            [-1, 512, 4, 4]               0\n",
            "           Conv2d-22            [-1, 512, 4, 4]       2,359,296\n",
            "      BatchNorm2d-23            [-1, 512, 4, 4]           1,024\n",
            "             ReLU-24            [-1, 512, 4, 4]               0\n",
            "           Conv2d-25            [-1, 512, 4, 4]       2,359,296\n",
            "      BatchNorm2d-26            [-1, 512, 4, 4]           1,024\n",
            "             ReLU-27            [-1, 512, 4, 4]               0\n",
            "        MaxPool2d-28            [-1, 512, 1, 1]               0\n",
            "           Linear-29                   [-1, 10]           5,120\n",
            "================================================================\n",
            "Total params: 6,573,120\n",
            "Trainable params: 6,573,120\n",
            "Non-trainable params: 0\n",
            "----------------------------------------------------------------\n",
            "Input size (MB): 0.01\n",
            "Forward/backward pass size (MB): 6.44\n",
            "Params size (MB): 25.07\n",
            "Estimated Total Size (MB): 31.53\n",
            "----------------------------------------------------------------\n"
          ],
          "name": "stdout"
        }
      ]
    },
    {
      "cell_type": "code",
      "metadata": {
        "id": "LYal2tIZjZje",
        "colab": {
          "base_uri": "https://localhost:8080/"
        },
        "outputId": "d19adf7f-a94a-4160-a997-e5639e6881be"
      },
      "source": [
        "train_data = datasets.CIFAR10(\n",
        "    root='./data',\n",
        "    train=True,\n",
        "    download=True,\n",
        "    transform=transforms.Compose(\n",
        "        [transforms.ToTensor()]\n",
        "    )\n",
        ")\n",
        "\n",
        "print(train_data.data.mean(axis=(0, 1, 2))/255)"
      ],
      "execution_count": null,
      "outputs": [
        {
          "output_type": "stream",
          "text": [
            "Files already downloaded and verified\n",
            "[0.49139968 0.48215841 0.44653091]\n"
          ],
          "name": "stdout"
        }
      ]
    },
    {
      "cell_type": "code",
      "metadata": {
        "id": "MzdxUVhZjZT2",
        "colab": {
          "base_uri": "https://localhost:8080/"
        },
        "outputId": "953bc055-a3b4-44ad-f648-015ec8fa72ca"
      },
      "source": [
        "len(train_data)"
      ],
      "execution_count": null,
      "outputs": [
        {
          "output_type": "execute_result",
          "data": {
            "text/plain": [
              "50000"
            ]
          },
          "metadata": {
            "tags": []
          },
          "execution_count": 32
        }
      ]
    },
    {
      "cell_type": "code",
      "metadata": {
        "id": "eNJIuu27jhqJ",
        "colab": {
          "base_uri": "https://localhost:8080/"
        },
        "outputId": "0ec7f686-494c-43bb-9b07-0d54a4d5d1e2"
      },
      "source": [
        "train_data.data.shape"
      ],
      "execution_count": null,
      "outputs": [
        {
          "output_type": "execute_result",
          "data": {
            "text/plain": [
              "(50000, 32, 32, 3)"
            ]
          },
          "metadata": {
            "tags": []
          },
          "execution_count": 33
        }
      ]
    },
    {
      "cell_type": "markdown",
      "metadata": {
        "id": "qTf6Z4Ekhutz"
      },
      "source": [
        "### **Transformations**\n",
        "\n",
        "* **Transformations used on Train Data**\n",
        "  * RandomCrop 32, 32 (after padding of 4)\n",
        "  * FlipLR \n",
        "  * CutOut(8, 8)\n",
        "  \n",
        "\n",
        "* References:\n",
        "  * [albumentation_doocs](https://albumentations.ai/docs/examples/pytorch_classification/)\n",
        "  * [video_tutorial](https://www.youtube.com/watch?v=rAdLwKJBvPM&ab_channel=AladdinPersson)\n",
        "  * [albumentations_classes](https://albumentations.ai/docs/api_reference/augmentations/transforms/)"
      ]
    },
    {
      "cell_type": "code",
      "metadata": {
        "id": "rNDuLCNXRgtC"
      },
      "source": [
        "train_transform = A.Compose([     \n",
        "            A.Sequential([\n",
        "                   A.CropAndPad(px=4, keep_size=False), #padding of 2, keep_size=True by defaulf\n",
        "                   A.RandomCrop(32,32)\n",
        "                   ]),\n",
        "            A.HorizontalFlip(p=0.7),\n",
        "            A.CoarseDropout(max_holes = 1, max_height=16, max_width=16, min_holes = 1, min_height=16, min_width=16, fill_value=(0.4914, 0.4822, 0.4465), mask_fill_value = None),\n",
        "            A.Normalize(mean=(0.4914, 0.4822, 0.4465), std=(0.247, 0.243, 0.261)),\n",
        "            ToTensorV2(),\n",
        "        ])\n",
        "\n",
        "test_transform = A.Compose([\n",
        "    A.Normalize(mean=(0.4914, 0.4822, 0.4465), std=(0.247, 0.243, 0.261)),\n",
        "    ToTensorV2(),\n",
        "])"
      ],
      "execution_count": null,
      "outputs": []
    },
    {
      "cell_type": "code",
      "metadata": {
        "id": "qlptlmhKRrPE",
        "colab": {
          "base_uri": "https://localhost:8080/"
        },
        "outputId": "250789c6-cba5-4357-a124-9c44c9ed0711"
      },
      "source": [
        "SEED = 42\n",
        "\n",
        "# CUDA?\n",
        "cuda = torch.cuda.is_available()\n",
        "print(\"CUDA Available?\", cuda)\n",
        "\n",
        "# For reproducibility\n",
        "torch.manual_seed(SEED)\n",
        "\n",
        "if cuda:\n",
        "    torch.cuda.manual_seed(SEED)"
      ],
      "execution_count": null,
      "outputs": [
        {
          "output_type": "stream",
          "text": [
            "CUDA Available? True\n"
          ],
          "name": "stdout"
        }
      ]
    },
    {
      "cell_type": "code",
      "metadata": {
        "id": "AH67M6tlRtNT"
      },
      "source": [
        "train_transform = Transforms(train_transform)\n",
        "test_transform = Transforms(test_transform)"
      ],
      "execution_count": null,
      "outputs": []
    },
    {
      "cell_type": "markdown",
      "metadata": {
        "id": "XCdrJAioUiuQ"
      },
      "source": [
        "### **Download And Load Train, Test Data**"
      ]
    },
    {
      "cell_type": "code",
      "metadata": {
        "id": "Jyv0BOriRu4_",
        "colab": {
          "base_uri": "https://localhost:8080/"
        },
        "outputId": "1b0afaad-17a5-4c6a-c8ee-d0f08d67ce92"
      },
      "source": [
        "train = datasets.CIFAR10(root='/content/data', train=True,\n",
        "                        download=True, transform=train_transform)\n",
        "test = datasets.CIFAR10(root='/content/data',train=False, download=True, transform=test_transform)\n",
        "\n",
        "train_loader = torch.utils.data.DataLoader(train, \n",
        "                                          batch_size=512, \n",
        "                                          shuffle=True,\n",
        "                                          num_workers=2, \n",
        "                                          pin_memory=True)\n",
        "test_loader = torch.utils.data.DataLoader(test, \n",
        "                                          batch_size=512,  \n",
        "                                          shuffle=False,\n",
        "                                          num_workers=2, \n",
        "                                          pin_memory=True)"
      ],
      "execution_count": null,
      "outputs": [
        {
          "output_type": "stream",
          "text": [
            "Files already downloaded and verified\n",
            "Files already downloaded and verified\n"
          ],
          "name": "stdout"
        }
      ]
    },
    {
      "cell_type": "code",
      "metadata": {
        "id": "hMY4Py1jR1Ot"
      },
      "source": [
        "use_cuda = torch.cuda.is_available()\n",
        "device = 'cuda:0' if use_cuda else 'cpu'"
      ],
      "execution_count": null,
      "outputs": []
    },
    {
      "cell_type": "markdown",
      "metadata": {
        "id": "4GDkTtYhvpNY"
      },
      "source": [
        "## Once Cycle Policy\n"
      ]
    },
    {
      "cell_type": "code",
      "metadata": {
        "id": "uAVqCN4H_f93"
      },
      "source": [
        ""
      ],
      "execution_count": null,
      "outputs": []
    },
    {
      "cell_type": "code",
      "metadata": {
        "id": "vocuVfWSvopj"
      },
      "source": [
        "max_lr = 0.02\n",
        "min_lr = 0.001\n",
        "epoch = 10\n",
        "criterion = nn.CrossEntropyLoss()\n",
        "model = resnet().to(device)\n",
        "momemtum = 0.9\n",
        "weight_decay=0.05,\n",
        "Lrtest_train_acc = []\n",
        "LRtest_Lr = []\n",
        "\n"
      ],
      "execution_count": null,
      "outputs": []
    },
    {
      "cell_type": "code",
      "metadata": {
        "colab": {
          "base_uri": "https://localhost:8080/"
        },
        "id": "JAMPASliwm0N",
        "outputId": "15c4ee56-e6c3-4151-f8e0-e9020faa1ddf"
      },
      "source": [
        "step = (max_lr - min_lr )/epoch\n",
        "lr = min_lr\n",
        "for e in range(epoch):\n",
        "    testmodel = copy.deepcopy(model)\n",
        "    optimizer = optim.SGD(testmodel.parameters(), lr=lr ,momentum=0.9,weight_decay=0.05 ) \n",
        "    lr += (max_lr - min_lr)/epoch\n",
        "    testmodel.train()\n",
        "    pbar = tqdm(train_loader)\n",
        "    correct = 0\n",
        "    processed = 0\n",
        "    for batch_idx, (data, target) in enumerate(pbar):\n",
        "        data, target = data[\"image\"].to(device), target.to(device)\n",
        "        optimizer.zero_grad()\n",
        "        y_pred =testmodel(data)\n",
        "        loss = criterion(y_pred, target)\n",
        "        loss.backward()\n",
        "        optimizer.step()\n",
        "        pred = y_pred.argmax(dim=1, keepdim=True)  # get the index of the max log-probability\n",
        "        correct += pred.eq(target.view_as(pred)).sum().item()\n",
        "        processed += len(data)\n",
        "        pbar.set_description(desc= f'epoch = {e+1} Lr = {optimizer.param_groups[0][\"lr\"]}  Loss={loss.item()} Batch_id={batch_idx} Accuracy={100*correct/processed:0.2f}')\n",
        "    Lrtest_train_acc.append(100*correct/processed)\n",
        "    LRtest_Lr.append(optimizer.param_groups[0]['lr'])"
      ],
      "execution_count": null,
      "outputs": [
        {
          "output_type": "stream",
          "text": [
            "epoch = 1 Lr = 0.001  Loss=1.550249695777893 Batch_id=97 Accuracy=32.54: 100%|██████████| 98/98 [00:24<00:00,  4.07it/s]\n",
            "epoch = 2 Lr = 0.0029  Loss=1.4849601984024048 Batch_id=97 Accuracy=36.71: 100%|██████████| 98/98 [00:24<00:00,  3.92it/s]\n",
            "epoch = 3 Lr = 0.0048  Loss=1.377687692642212 Batch_id=97 Accuracy=35.53: 100%|██████████| 98/98 [00:25<00:00,  3.89it/s]\n",
            "epoch = 4 Lr = 0.006699999999999999  Loss=1.6627634763717651 Batch_id=97 Accuracy=27.13: 100%|██████████| 98/98 [00:24<00:00,  4.02it/s]\n",
            "epoch = 5 Lr = 0.0086  Loss=1.7587109804153442 Batch_id=97 Accuracy=22.70: 100%|██████████| 98/98 [00:24<00:00,  4.03it/s]\n",
            "epoch = 6 Lr = 0.0105  Loss=1.7244470119476318 Batch_id=97 Accuracy=22.54: 100%|██████████| 98/98 [00:24<00:00,  3.99it/s]\n",
            "epoch = 7 Lr = 0.012400000000000001  Loss=1.8090248107910156 Batch_id=97 Accuracy=20.00: 100%|██████████| 98/98 [00:24<00:00,  3.98it/s]\n",
            "epoch = 8 Lr = 0.014300000000000002  Loss=2.057267427444458 Batch_id=97 Accuracy=15.00: 100%|██████████| 98/98 [00:24<00:00,  4.01it/s]\n",
            "epoch = 9 Lr = 0.016200000000000003  Loss=1.976651668548584 Batch_id=97 Accuracy=15.97: 100%|██████████| 98/98 [00:24<00:00,  4.02it/s]\n",
            "epoch = 10 Lr = 0.0181  Loss=2.180305004119873 Batch_id=97 Accuracy=13.03: 100%|██████████| 98/98 [00:24<00:00,  4.01it/s]\n"
          ],
          "name": "stderr"
        }
      ]
    },
    {
      "cell_type": "code",
      "metadata": {
        "id": "QoL_UmD-1B4F",
        "colab": {
          "base_uri": "https://localhost:8080/",
          "height": 317
        },
        "outputId": "0518f380-924c-48f0-f284-a18ce5a22e64"
      },
      "source": [
        "plt.plot(LRtest_Lr, Lrtest_train_acc)\n",
        "plt.ylabel('train Accuracy')\n",
        "plt.xlabel(\"Learning rate\")\n",
        "plt.title(\"Lr v/s accuracy\")\n",
        "plt.show()"
      ],
      "execution_count": null,
      "outputs": [
        {
          "output_type": "display_data",
          "data": {
            "image/png": "[encoded data removed]",
            "text/plain": [
              "<Figure size 432x288 with 1 Axes>"
            ]
          },
          "metadata": {
            "tags": [],
            "needs_background": "light"
          }
        }
      ]
    },
    {
      "cell_type": "markdown",
      "metadata": {
        "id": "5QAK5VMxh7PM"
      },
      "source": [
        "### **Model Design**"
      ]
    },
    {
      "cell_type": "markdown",
      "metadata": {
        "id": "3dwITEP4h-iv"
      },
      "source": [
        "### **Model Summary**"
      ]
    },
    {
      "cell_type": "markdown",
      "metadata": {
        "id": "JCacX6kPiGBJ"
      },
      "source": [
        "### **Train Function**"
      ]
    },
    {
      "cell_type": "code",
      "metadata": {
        "id": "2x4QNPgMSJ66"
      },
      "source": [
        "def train(model, device, train_loader, optimizer, scheduler, criterion, train_acc, train_loss):   \n",
        "    model.train()\n",
        "    pbar = tqdm(train_loader)\n",
        "\n",
        "    correct = 0\n",
        "    processed = 0\n",
        "\n",
        "    for batch_idx, (data, target) in enumerate(pbar):\n",
        "        # get samples\n",
        "        data, target = data[\"image\"].to(device), target.to(device)\n",
        "\n",
        "        # Init\n",
        "        optimizer.zero_grad()\n",
        "\n",
        "        # Predict\n",
        "        y_pred = model(data)\n",
        "\n",
        "        # Calculate loss\n",
        "        loss = criterion(y_pred, target)\n",
        "\n",
        "        \n",
        "\n",
        "        # Backpropagation\n",
        "        loss.backward()\n",
        "\n",
        "        optimizer.step()\n",
        "        scheduler.step()\n",
        "\n",
        "        # Update pbar-tqdm\n",
        "\n",
        "        pred = y_pred.argmax(dim=1, keepdim=True)  # get the index of the max log-probability\n",
        "        correct += pred.eq(target.view_as(pred)).sum().item()\n",
        "        processed += len(data)\n",
        "\n",
        "        pbar.set_description(\n",
        "            desc=f'Loss={loss.item()} Batch_id={batch_idx} Accuracy={100 * correct / processed:0.2f}')\n",
        "    train_loss.append(loss.data.cpu().numpy().item())\n",
        "    train_acc.append(100 * correct / processed)"
      ],
      "execution_count": null,
      "outputs": []
    },
    {
      "cell_type": "markdown",
      "metadata": {
        "id": "rUNt3EP7iNGC"
      },
      "source": [
        "### **Test Function**"
      ]
    },
    {
      "cell_type": "code",
      "metadata": {
        "id": "R7L0LWyWSYcx"
      },
      "source": [
        "def test(model, device, test_loader, test_acc, test_losses):\n",
        "    model.eval()\n",
        "    test_loss = 0\n",
        "    correct = 0\n",
        "    with torch.no_grad():\n",
        "        for data, target in test_loader:\n",
        "            data, target = data[\"image\"].to(device), target.to(device)\n",
        "            output = model(data)\n",
        "            test_loss += F.cross_entropy(output, target).item()  # sum up batch loss\n",
        "            pred = output.argmax(dim=1, keepdim=True)  # get the index of the max log-probability\n",
        "            correct += pred.eq(target.view_as(pred)).sum().item()\n",
        "\n",
        "    test_loss /= len(test_loader.dataset)\n",
        "    test_losses.append(test_loss)\n",
        "\n",
        "    print('\\nTest set: Average loss: {:.4f}, Accuracy: {}/{} ({:.2f}%)\\n'.format(\n",
        "        test_loss, correct, len(test_loader.dataset),\n",
        "        100. * correct / len(test_loader.dataset)))\n",
        "\n",
        "    test_acc.append(100. * correct / len(test_loader.dataset))"
      ],
      "execution_count": null,
      "outputs": []
    },
    {
      "cell_type": "markdown",
      "metadata": {
        "id": "P7aMS-lciTkG"
      },
      "source": [
        "### **Train And Test the Model**"
      ]
    },
    {
      "cell_type": "code",
      "metadata": {
        "id": "DqByaLkcSbgI",
        "colab": {
          "base_uri": "https://localhost:8080/"
        },
        "outputId": "c3989d43-cbd0-45b8-eaee-32d7399baffe"
      },
      "source": [
        "criterion = nn.CrossEntropyLoss()\n",
        "model = resnet().to(device)\n",
        "optimizer = optim.SGD(model.parameters(), lr=0.01, momentum=0.9, weight_decay=0.005)\n",
        "scheduler = OneCycleLR(optimizer, max_lr = 0.012400000000000001    , total_steps=None, epochs=24, steps_per_epoch=len(train_loader), pct_start=0.167, anneal_strategy='linear', \n",
        "                       cycle_momentum=False, base_momentum=0.85, max_momentum=0.95, div_factor=10.0,final_div_factor =1)\n",
        "\n",
        "train_losses = []\n",
        "test_losses = []\n",
        "train_accuracy = []\n",
        "test_accuracy = []\n",
        "LR = []\n",
        "for epoch in range(1, 25):\n",
        "    print(\"EPOCH:\", epoch,'LR:',optimizer.param_groups[0]['lr'])\n",
        "    LR.append(optimizer.param_groups[0]['lr'])\n",
        "    train(model, device, train_loader, optimizer,scheduler,criterion, train_accuracy, train_losses)\n",
        "\n",
        "    test(model, device, test_loader,test_accuracy, test_losses)"
      ],
      "execution_count": null,
      "outputs": [
        {
          "output_type": "stream",
          "text": [
            "\r  0%|          | 0/98 [00:00<?, ?it/s]"
          ],
          "name": "stderr"
        },
        {
          "output_type": "stream",
          "text": [
            "EPOCH: 1 LR: 0.0012400000000000002\n"
          ],
          "name": "stdout"
        },
        {
          "output_type": "stream",
          "text": [
            "Loss=1.4518868923187256 Batch_id=97 Accuracy=35.08: 100%|██████████| 98/98 [00:24<00:00,  3.98it/s]\n",
            "  0%|          | 0/98 [00:00<?, ?it/s]"
          ],
          "name": "stderr"
        },
        {
          "output_type": "stream",
          "text": [
            "\n",
            "Test set: Average loss: 0.0028, Accuracy: 4955/10000 (49.55%)\n",
            "\n",
            "EPOCH: 2 LR: 0.004031538194515345\n"
          ],
          "name": "stdout"
        },
        {
          "output_type": "stream",
          "text": [
            "Loss=1.1477816104888916 Batch_id=97 Accuracy=52.64: 100%|██████████| 98/98 [00:24<00:00,  3.98it/s]\n",
            "  0%|          | 0/98 [00:00<?, ?it/s]"
          ],
          "name": "stderr"
        },
        {
          "output_type": "stream",
          "text": [
            "\n",
            "Test set: Average loss: 0.0024, Accuracy: 5907/10000 (59.07%)\n",
            "\n",
            "EPOCH: 3 LR: 0.0068230763890306904\n"
          ],
          "name": "stdout"
        },
        {
          "output_type": "stream",
          "text": [
            "Loss=1.0303641557693481 Batch_id=97 Accuracy=60.69: 100%|██████████| 98/98 [00:24<00:00,  3.99it/s]\n",
            "  0%|          | 0/98 [00:00<?, ?it/s]"
          ],
          "name": "stderr"
        },
        {
          "output_type": "stream",
          "text": [
            "\n",
            "Test set: Average loss: 0.0017, Accuracy: 7063/10000 (70.63%)\n",
            "\n",
            "EPOCH: 4 LR: 0.009614614583546037\n"
          ],
          "name": "stdout"
        },
        {
          "output_type": "stream",
          "text": [
            "Loss=0.9828583002090454 Batch_id=97 Accuracy=66.64: 100%|██████████| 98/98 [00:24<00:00,  3.99it/s]\n",
            "  0%|          | 0/98 [00:00<?, ?it/s]"
          ],
          "name": "stderr"
        },
        {
          "output_type": "stream",
          "text": [
            "\n",
            "Test set: Average loss: 0.0016, Accuracy: 7289/10000 (72.89%)\n",
            "\n",
            "EPOCH: 5 LR: 0.012398769630301102\n"
          ],
          "name": "stdout"
        },
        {
          "output_type": "stream",
          "text": [
            "Loss=0.8007153272628784 Batch_id=97 Accuracy=70.50: 100%|██████████| 98/98 [00:24<00:00,  3.98it/s]\n",
            "  0%|          | 0/98 [00:00<?, ?it/s]"
          ],
          "name": "stderr"
        },
        {
          "output_type": "stream",
          "text": [
            "\n",
            "Test set: Average loss: 0.0013, Accuracy: 7832/10000 (78.32%)\n",
            "\n",
            "EPOCH: 6 LR: 0.011840546340985376\n"
          ],
          "name": "stdout"
        },
        {
          "output_type": "stream",
          "text": [
            "Loss=0.8236434459686279 Batch_id=97 Accuracy=75.26: 100%|██████████| 98/98 [00:24<00:00,  3.99it/s]\n",
            "  0%|          | 0/98 [00:00<?, ?it/s]"
          ],
          "name": "stderr"
        },
        {
          "output_type": "stream",
          "text": [
            "\n",
            "Test set: Average loss: 0.0014, Accuracy: 7785/10000 (77.85%)\n",
            "\n",
            "EPOCH: 7 LR: 0.011282323051669648\n"
          ],
          "name": "stdout"
        },
        {
          "output_type": "stream",
          "text": [
            "Loss=0.5569260120391846 Batch_id=97 Accuracy=77.75: 100%|██████████| 98/98 [00:24<00:00,  3.98it/s]\n",
            "  0%|          | 0/98 [00:00<?, ?it/s]"
          ],
          "name": "stderr"
        },
        {
          "output_type": "stream",
          "text": [
            "\n",
            "Test set: Average loss: 0.0012, Accuracy: 7967/10000 (79.67%)\n",
            "\n",
            "EPOCH: 8 LR: 0.010724099762353922\n"
          ],
          "name": "stdout"
        },
        {
          "output_type": "stream",
          "text": [
            "Loss=0.6647427082061768 Batch_id=97 Accuracy=79.72: 100%|██████████| 98/98 [00:24<00:00,  3.97it/s]\n",
            "  0%|          | 0/98 [00:00<?, ?it/s]"
          ],
          "name": "stderr"
        },
        {
          "output_type": "stream",
          "text": [
            "\n",
            "Test set: Average loss: 0.0010, Accuracy: 8256/10000 (82.56%)\n",
            "\n",
            "EPOCH: 9 LR: 0.010165876473038196\n"
          ],
          "name": "stdout"
        },
        {
          "output_type": "stream",
          "text": [
            "Loss=0.693509578704834 Batch_id=97 Accuracy=81.81: 100%|██████████| 98/98 [00:24<00:00,  3.99it/s]\n",
            "  0%|          | 0/98 [00:00<?, ?it/s]"
          ],
          "name": "stderr"
        },
        {
          "output_type": "stream",
          "text": [
            "\n",
            "Test set: Average loss: 0.0010, Accuracy: 8257/10000 (82.57%)\n",
            "\n",
            "EPOCH: 10 LR: 0.00960765318372247\n"
          ],
          "name": "stdout"
        },
        {
          "output_type": "stream",
          "text": [
            "Loss=0.4754926264286041 Batch_id=97 Accuracy=83.45: 100%|██████████| 98/98 [00:24<00:00,  3.98it/s]\n",
            "  0%|          | 0/98 [00:00<?, ?it/s]"
          ],
          "name": "stderr"
        },
        {
          "output_type": "stream",
          "text": [
            "\n",
            "Test set: Average loss: 0.0010, Accuracy: 8399/10000 (83.99%)\n",
            "\n",
            "EPOCH: 11 LR: 0.009049429894406744\n"
          ],
          "name": "stdout"
        },
        {
          "output_type": "stream",
          "text": [
            "Loss=0.4912489354610443 Batch_id=97 Accuracy=84.37: 100%|██████████| 98/98 [00:24<00:00,  3.97it/s]\n",
            "  0%|          | 0/98 [00:00<?, ?it/s]"
          ],
          "name": "stderr"
        },
        {
          "output_type": "stream",
          "text": [
            "\n",
            "Test set: Average loss: 0.0010, Accuracy: 8269/10000 (82.69%)\n",
            "\n",
            "EPOCH: 12 LR: 0.008491206605091017\n"
          ],
          "name": "stdout"
        },
        {
          "output_type": "stream",
          "text": [
            "Loss=0.45821261405944824 Batch_id=97 Accuracy=85.16: 100%|██████████| 98/98 [00:24<00:00,  3.98it/s]\n",
            "  0%|          | 0/98 [00:00<?, ?it/s]"
          ],
          "name": "stderr"
        },
        {
          "output_type": "stream",
          "text": [
            "\n",
            "Test set: Average loss: 0.0008, Accuracy: 8638/10000 (86.38%)\n",
            "\n",
            "EPOCH: 13 LR: 0.00793298331577529\n"
          ],
          "name": "stdout"
        },
        {
          "output_type": "stream",
          "text": [
            "Loss=0.3785838186740875 Batch_id=97 Accuracy=86.07: 100%|██████████| 98/98 [00:24<00:00,  3.98it/s]\n",
            "  0%|          | 0/98 [00:00<?, ?it/s]"
          ],
          "name": "stderr"
        },
        {
          "output_type": "stream",
          "text": [
            "\n",
            "Test set: Average loss: 0.0009, Accuracy: 8502/10000 (85.02%)\n",
            "\n",
            "EPOCH: 14 LR: 0.007374760026459565\n"
          ],
          "name": "stdout"
        },
        {
          "output_type": "stream",
          "text": [
            "Loss=0.33560025691986084 Batch_id=97 Accuracy=87.26: 100%|██████████| 98/98 [00:24<00:00,  3.97it/s]\n",
            "  0%|          | 0/98 [00:00<?, ?it/s]"
          ],
          "name": "stderr"
        },
        {
          "output_type": "stream",
          "text": [
            "\n",
            "Test set: Average loss: 0.0008, Accuracy: 8737/10000 (87.37%)\n",
            "\n",
            "EPOCH: 15 LR: 0.006816536737143838\n"
          ],
          "name": "stdout"
        },
        {
          "output_type": "stream",
          "text": [
            "Loss=0.2948436439037323 Batch_id=97 Accuracy=88.12: 100%|██████████| 98/98 [00:24<00:00,  3.98it/s]\n",
            "  0%|          | 0/98 [00:00<?, ?it/s]"
          ],
          "name": "stderr"
        },
        {
          "output_type": "stream",
          "text": [
            "\n",
            "Test set: Average loss: 0.0007, Accuracy: 8888/10000 (88.88%)\n",
            "\n",
            "EPOCH: 16 LR: 0.006258313447828112\n"
          ],
          "name": "stdout"
        },
        {
          "output_type": "stream",
          "text": [
            "Loss=0.3658577799797058 Batch_id=97 Accuracy=88.79: 100%|██████████| 98/98 [00:24<00:00,  3.98it/s]\n",
            "  0%|          | 0/98 [00:00<?, ?it/s]"
          ],
          "name": "stderr"
        },
        {
          "output_type": "stream",
          "text": [
            "\n",
            "Test set: Average loss: 0.0007, Accuracy: 8878/10000 (88.78%)\n",
            "\n",
            "EPOCH: 17 LR: 0.005700090158512386\n"
          ],
          "name": "stdout"
        },
        {
          "output_type": "stream",
          "text": [
            "Loss=0.29768887162208557 Batch_id=97 Accuracy=89.31: 100%|██████████| 98/98 [00:24<00:00,  3.97it/s]\n",
            "  0%|          | 0/98 [00:00<?, ?it/s]"
          ],
          "name": "stderr"
        },
        {
          "output_type": "stream",
          "text": [
            "\n",
            "Test set: Average loss: 0.0007, Accuracy: 8752/10000 (87.52%)\n",
            "\n",
            "EPOCH: 18 LR: 0.005141866869196659\n"
          ],
          "name": "stdout"
        },
        {
          "output_type": "stream",
          "text": [
            "Loss=0.2803500294685364 Batch_id=97 Accuracy=89.78: 100%|██████████| 98/98 [00:24<00:00,  3.98it/s]\n",
            "  0%|          | 0/98 [00:00<?, ?it/s]"
          ],
          "name": "stderr"
        },
        {
          "output_type": "stream",
          "text": [
            "\n",
            "Test set: Average loss: 0.0007, Accuracy: 8850/10000 (88.50%)\n",
            "\n",
            "EPOCH: 19 LR: 0.004583643579880933\n"
          ],
          "name": "stdout"
        },
        {
          "output_type": "stream",
          "text": [
            "Loss=0.25049862265586853 Batch_id=97 Accuracy=90.61: 100%|██████████| 98/98 [00:24<00:00,  3.99it/s]\n",
            "  0%|          | 0/98 [00:00<?, ?it/s]"
          ],
          "name": "stderr"
        },
        {
          "output_type": "stream",
          "text": [
            "\n",
            "Test set: Average loss: 0.0006, Accuracy: 8975/10000 (89.75%)\n",
            "\n",
            "EPOCH: 20 LR: 0.004025420290565206\n"
          ],
          "name": "stdout"
        },
        {
          "output_type": "stream",
          "text": [
            "Loss=0.23058249056339264 Batch_id=97 Accuracy=91.35: 100%|██████████| 98/98 [00:24<00:00,  3.98it/s]\n",
            "  0%|          | 0/98 [00:00<?, ?it/s]"
          ],
          "name": "stderr"
        },
        {
          "output_type": "stream",
          "text": [
            "\n",
            "Test set: Average loss: 0.0006, Accuracy: 8994/10000 (89.94%)\n",
            "\n",
            "EPOCH: 21 LR: 0.0034671970012494797\n"
          ],
          "name": "stdout"
        },
        {
          "output_type": "stream",
          "text": [
            "Loss=0.2315424084663391 Batch_id=97 Accuracy=91.90: 100%|██████████| 98/98 [00:24<00:00,  3.97it/s]\n",
            "  0%|          | 0/98 [00:00<?, ?it/s]"
          ],
          "name": "stderr"
        },
        {
          "output_type": "stream",
          "text": [
            "\n",
            "Test set: Average loss: 0.0006, Accuracy: 8988/10000 (89.88%)\n",
            "\n",
            "EPOCH: 22 LR: 0.002908973711933752\n"
          ],
          "name": "stdout"
        },
        {
          "output_type": "stream",
          "text": [
            "Loss=0.23337122797966003 Batch_id=97 Accuracy=92.23: 100%|██████████| 98/98 [00:24<00:00,  3.97it/s]\n",
            "  0%|          | 0/98 [00:00<?, ?it/s]"
          ],
          "name": "stderr"
        },
        {
          "output_type": "stream",
          "text": [
            "\n",
            "Test set: Average loss: 0.0006, Accuracy: 9070/10000 (90.70%)\n",
            "\n",
            "EPOCH: 23 LR: 0.002350750422618026\n"
          ],
          "name": "stdout"
        },
        {
          "output_type": "stream",
          "text": [
            "Loss=0.21399202942848206 Batch_id=97 Accuracy=92.99: 100%|██████████| 98/98 [00:24<00:00,  3.97it/s]\n",
            "  0%|          | 0/98 [00:00<?, ?it/s]"
          ],
          "name": "stderr"
        },
        {
          "output_type": "stream",
          "text": [
            "\n",
            "Test set: Average loss: 0.0005, Accuracy: 9120/10000 (91.20%)\n",
            "\n",
            "EPOCH: 24 LR: 0.0017925271333023001\n"
          ],
          "name": "stdout"
        },
        {
          "output_type": "stream",
          "text": [
            "Loss=0.20310457050800323 Batch_id=97 Accuracy=93.56: 100%|██████████| 98/98 [00:24<00:00,  3.96it/s]\n"
          ],
          "name": "stderr"
        },
        {
          "output_type": "stream",
          "text": [
            "\n",
            "Test set: Average loss: 0.0005, Accuracy: 9116/10000 (91.16%)\n",
            "\n"
          ],
          "name": "stdout"
        }
      ]
    },
    {
      "cell_type": "markdown",
      "metadata": {
        "id": "pYBgQj4Iiacq"
      },
      "source": [
        "### **Train, Validation Loss and Accuracy Plots**"
      ]
    },
    {
      "cell_type": "code",
      "metadata": {
        "id": "e_LLwhwp5sQQ",
        "colab": {
          "base_uri": "https://localhost:8080/"
        },
        "outputId": "2d637c1b-10e3-41a7-a4ab-d5a7d664cdf7"
      },
      "source": [
        "LR"
      ],
      "execution_count": null,
      "outputs": [
        {
          "output_type": "execute_result",
          "data": {
            "text/plain": [
              "[0.0012400000000000002,\n",
              " 0.004031538194515345,\n",
              " 0.0068230763890306904,\n",
              " 0.009614614583546037,\n",
              " 0.012398769630301102,\n",
              " 0.011840546340985376,\n",
              " 0.011282323051669648,\n",
              " 0.010724099762353922,\n",
              " 0.010165876473038196,\n",
              " 0.00960765318372247,\n",
              " 0.009049429894406744,\n",
              " 0.008491206605091017,\n",
              " 0.00793298331577529,\n",
              " 0.007374760026459565,\n",
              " 0.006816536737143838,\n",
              " 0.006258313447828112,\n",
              " 0.005700090158512386,\n",
              " 0.005141866869196659,\n",
              " 0.004583643579880933,\n",
              " 0.004025420290565206,\n",
              " 0.0034671970012494797,\n",
              " 0.002908973711933752,\n",
              " 0.002350750422618026,\n",
              " 0.0017925271333023001]"
            ]
          },
          "metadata": {
            "tags": []
          },
          "execution_count": 45
        }
      ]
    },
    {
      "cell_type": "code",
      "metadata": {
        "id": "0LTaO-He3uHt",
        "colab": {
          "base_uri": "https://localhost:8080/"
        },
        "outputId": "f825d1b2-5cf0-463e-ff31-52b8d3c99f83"
      },
      "source": [
        "plt.plot(np.arange(1,25),LR)\n",
        "plt.ylabel('train Accuracy')\n",
        "plt.xlabel(\"Learning rate\")\n",
        "plt.title(\"Lr v/s accuracy\")\n",
        "plt.show()"
      ],
      "execution_count": null,
      "outputs": [
        {
          "output_type": "display_data",
          "data": {
            "image/png": "[encoded data removed]",
            "text/plain": [
              "<Figure size 432x288 with 1 Axes>"
            ]
          },
          "metadata": {
            "tags": [],
            "needs_background": "light"
          }
        }
      ]
    },
    {
      "cell_type": "code",
      "metadata": {
        "id": "9OIPpqUOSc8n",
        "colab": {
          "base_uri": "https://localhost:8080/",
          "height": 643
        },
        "outputId": "0df4478c-1890-4100-ebe7-cef7859e6924"
      },
      "source": [
        "import seaborn as sns\n",
        "\n",
        "sns.set(style='whitegrid')\n",
        "sns.set(font_scale=1.5)\n",
        "plt.rcParams[\"figure.figsize\"] = (20,10)\n",
        "\n",
        "# Plot the learning curve.\n",
        "fig, (plt1,plt2) = plt.subplots(1,2)\n",
        "plt1.plot(train_losses, 'r', label=\"Training Loss\")\n",
        "plt1.plot(test_losses, 'b', label=\"Validation Loss\")\n",
        "plt2.plot(train_accuracy, 'r', label=\"Training Accuracy\")\n",
        "plt2.plot(test_accuracy, 'b', label=\"Validation Accuracy\")\n",
        "\n",
        "plt2.set_title(\"Training-Validation Accuracy Curve\")\n",
        "plt2.set_xlabel(\"Epoch\")\n",
        "plt2.set_ylabel(\"Accuracy\")\n",
        "plt2.legend()\n",
        "plt1.set_title(\"Training-Validation Loss Curve\")\n",
        "plt1.set_xlabel(\"Epoch\")\n",
        "plt1.set_ylabel(\"Loss\")\n",
        "plt1.legend()\n",
        "\n",
        "plt.show()"
      ],
      "execution_count": null,
      "outputs": [
        {
          "output_type": "display_data",
          "data": {
            "image/png": "[encoded data removed]",
            "text/plain": [
              "<Figure size 1440x720 with 2 Axes>"
            ]
          },
          "metadata": {
            "tags": []
          }
        }
      ]
    },
    {
      "cell_type": "markdown",
      "metadata": {
        "id": "51ooLT5Nio7m"
      },
      "source": [
        "### **Classwise Predictions**"
      ]
    },
    {
      "cell_type": "code",
      "metadata": {
        "id": "728_O0-Oa5E9",
        "colab": {
          "base_uri": "https://localhost:8080/"
        },
        "outputId": "7da9d49a-1ca1-43e8-a262-c3c1e6d08c82"
      },
      "source": [
        "classes = ('plane', 'car', 'bird', 'cat',\n",
        "           'deer', 'dog', 'frog', 'horse', 'ship', 'truck')\n",
        "class_correct = list(0. for i in range(10))\n",
        "class_total = list(0. for i in range(10))\n",
        "with torch.no_grad():\n",
        "    for data in test_loader:\n",
        "        images, labels = data\n",
        "        images = images[\"image\"].to(device)\n",
        "        labels = labels.to(device)\n",
        "        outputs = model(images)\n",
        "        _, predicted = torch.max(outputs, 1)\n",
        "        c = (predicted == labels).squeeze()\n",
        "        for i in range(4):\n",
        "            label = labels[i]\n",
        "            class_correct[label] += c[i].item()\n",
        "            class_total[label] += 1\n",
        "\n",
        "\n",
        "for i in range(10):\n",
        "    print('Accuracy of %5s : %2d %%' % (\n",
        "        classes[i], 100 * class_correct[i] / class_total[i]))"
      ],
      "execution_count": null,
      "outputs": [
        {
          "output_type": "stream",
          "text": [
            "Accuracy of plane : 85 %\n",
            "Accuracy of   car : 100 %\n",
            "Accuracy of  bird : 100 %\n",
            "Accuracy of   cat : 58 %\n",
            "Accuracy of  deer : 100 %\n",
            "Accuracy of   dog : 66 %\n",
            "Accuracy of  frog : 81 %\n",
            "Accuracy of horse : 100 %\n",
            "Accuracy of  ship : 100 %\n",
            "Accuracy of truck : 100 %\n"
          ],
          "name": "stdout"
        }
      ]
    },
    {
      "cell_type": "code",
      "metadata": {
        "id": "CdkVGWVItGa0",
        "colab": {
          "base_uri": "https://localhost:8080/"
        },
        "outputId": "0492b611-525b-4158-fa5a-34fec4e05c88"
      },
      "source": [
        "wrong_images = []\n",
        "wrong_label = []\n",
        "correct_label = []\n",
        "model.eval()\n",
        "with torch.no_grad():\n",
        "    for data, target in test_loader:\n",
        "        data, target = data[\"image\"].to(device), target.to(device)\n",
        "        output = model(data)\n",
        "        pred = output.argmax(dim=1, keepdim=True).squeeze()\n",
        "\n",
        "        wrong_pred = (pred.eq(target.view_as(pred)) == False)\n",
        "        wrong_images.append(data[wrong_pred])\n",
        "        wrong_label.append(pred[wrong_pred])\n",
        "        correct_label.append(target.view_as(pred)[wrong_pred])\n",
        "\n",
        "        wrong_predictions = list(zip(torch.cat(wrong_images), torch.cat(wrong_label), torch.cat(correct_label)))\n",
        "    print(f'Total wrong predictions are {len(wrong_predictions)}')"
      ],
      "execution_count": null,
      "outputs": [
        {
          "output_type": "stream",
          "text": [
            "Total wrong predictions are 884\n"
          ],
          "name": "stdout"
        }
      ]
    },
    {
      "cell_type": "code",
      "metadata": {
        "id": "mwIqA7mi6OMH",
        "colab": {
          "base_uri": "https://localhost:8080/"
        },
        "outputId": "05072e79-b885-4c94-a02a-712f76faa52f"
      },
      "source": [
        "fig = plt.figure(figsize=(10, 12))\n",
        "fig.tight_layout()\n",
        "\n",
        "mean = (0.49139968, 0.48215841, 0.44653091)\n",
        "std = (0.24703223, 0.24348513, 0.26158784)\n",
        "\n",
        "for i, (img, pred, correct) in enumerate(wrong_predictions[:20]):\n",
        "    img, pred, target = img.cpu().numpy().astype(dtype=np.float32), pred.cpu(), correct.cpu()\n",
        "    for j in range(img.shape[0]):\n",
        "        img[j] = (img[j] * std[j]) + mean[j]\n",
        "\n",
        "    img = np.transpose(img, (1, 2, 0))  # / 2 + 0.5\n",
        "    ax = fig.add_subplot(5, 5, i + 1)\n",
        "    ax.axis('off')\n",
        "    ax.set_title(f'\\nactual : {classes[target.item()]}\\npredicted : {classes[pred.item()]}',\n",
        "                  fontsize=10)\n",
        "    ax.imshow(img)\n",
        "\n",
        "plt.show()"
      ],
      "execution_count": null,
      "outputs": [
        {
          "output_type": "stream",
          "text": [
            "Clipping input data to the valid range for imshow with RGB data ([0..1] for floats or [0..255] for integers).\n",
            "Clipping input data to the valid range for imshow with RGB data ([0..1] for floats or [0..255] for integers).\n",
            "Clipping input data to the valid range for imshow with RGB data ([0..1] for floats or [0..255] for integers).\n",
            "Clipping input data to the valid range for imshow with RGB data ([0..1] for floats or [0..255] for integers).\n",
            "Clipping input data to the valid range for imshow with RGB data ([0..1] for floats or [0..255] for integers).\n",
            "Clipping input data to the valid range for imshow with RGB data ([0..1] for floats or [0..255] for integers).\n",
            "Clipping input data to the valid range for imshow with RGB data ([0..1] for floats or [0..255] for integers).\n",
            "Clipping input data to the valid range for imshow with RGB data ([0..1] for floats or [0..255] for integers).\n"
          ],
          "name": "stderr"
        },
        {
          "output_type": "display_data",
          "data": {
            "image/png": "[encoded data removed]",
            "text/plain": [
              "<Figure size 720x864 with 20 Axes>"
            ]
          },
          "metadata": {
            "tags": []
          }
        }
      ]
    },
    {
      "cell_type": "code",
      "metadata": {
        "id": "FZPjonmJePLn"
      },
      "source": [
        ""
      ],
      "execution_count": null,
      "outputs": []
    }
  ]
}